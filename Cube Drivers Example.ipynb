{
 "cells": [
  {
   "cell_type": "code",
   "execution_count": 4,
   "id": "fe3685b4",
   "metadata": {},
   "outputs": [],
   "source": [
    "from matplotlib.pyplot import *\n",
    "%matplotlib qt"
   ]
  },
  {
   "cell_type": "code",
   "execution_count": 5,
   "id": "9e98094c",
   "metadata": {},
   "outputs": [],
   "source": [
    "codes = {'pz_x':295004869,\n",
    "        'pz_y':29500501,\n",
    "        'pz_z':29500495,\n",
    "        'sg_x': 84868288,\n",
    "        'sg_y': 84868295,\n",
    "        'qpd': 69250571}"
   ]
  },
  {
   "cell_type": "code",
   "execution_count": 6,
   "id": "cfc1e31d",
   "metadata": {},
   "outputs": [
    {
     "data": {
      "text/plain": [
       "295004869"
      ]
     },
     "execution_count": 6,
     "metadata": {},
     "output_type": "execute_result"
    }
   ],
   "source": [
    "codes['pz_x']"
   ]
  },
  {
   "cell_type": "code",
   "execution_count": 1,
   "id": "f43f7fa3",
   "metadata": {},
   "outputs": [],
   "source": [
    "import clr\n",
    "import sys\n",
    "import time\n",
    "\n",
    "#this appends to the global path\n",
    "sys.path.append(\"C:\\Program Files\\Thorlabs\\Kinesis\")\n",
    "\n",
    "#This loads the necessary libraries CNET\n",
    "clr.AddReference(\"Thorlabs.MotionControl.Benchtop.PiezoCLI\")\n",
    "clr.AddReference(\"Thorlabs.MotionControl.DeviceManagerCLI\")\n",
    "clr.AddReference(\"Thorlabs.MotionControl.KCube.PiezoCLI\")\n",
    "clr.AddReference(\"Thorlabs.MotionControl.KCube.PositionAlignerCLI\")\n",
    "clr.AddReference(\"Thorlabs.MotionControl.KCube.StrainGaugeCLI\")\n",
    "clr.AddReference(\"System\")\n",
    "\n",
    "from Thorlabs.MotionControl.KCube.PiezoCLI import KCubePiezo\n",
    "from Thorlabs.MotionControl.KCube.StrainGaugeCLI import KCubeStrainGauge\n",
    "from Thorlabs.MotionControl.DeviceManagerCLI import DeviceManagerCLI\n",
    "from Thorlabs.MotionControl.GenericPiezoCLI.Piezo import *\n",
    "from Thorlabs.MotionControl.KCube.PositionAlignerCLI import KCubePositionAligner\n",
    "\n",
    "\n",
    "from System import Decimal\n",
    "\n",
    "def list_devices():\n",
    "    \"\"\"Return a list of Kinesis serial numbers\"\"\"\n",
    "    DeviceManagerCLI.BuildDeviceList()\n",
    "    return DeviceManagerCLI.GetDeviceList()\n"
   ]
  },
  {
   "cell_type": "code",
   "execution_count": 2,
   "id": "a706bbea",
   "metadata": {},
   "outputs": [
    {
     "data": {
      "text/plain": [
       "['29500489', '29500495', '29500501', '69250571', '84868288', '84868295']"
      ]
     },
     "execution_count": 2,
     "metadata": {},
     "output_type": "execute_result"
    }
   ],
   "source": [
    "list_devices()"
   ]
  },
  {
   "cell_type": "code",
   "execution_count": 8,
   "id": "26644c42",
   "metadata": {},
   "outputs": [],
   "source": [
    "class KPZ():\n",
    "    \n",
    "    \"\"\"\n",
    "    Builds a K-Cube Piezo device instance for control\n",
    "    \"\"\"\n",
    "    \n",
    "    def __init__(self, serial_number):\n",
    "        #serial number\n",
    "        self.serial_number = str(serial_number)\n",
    "        \n",
    "        #builds the list of devices\n",
    "        DeviceManagerCLI.BuildDeviceList()\n",
    "        \n",
    "        #creates a device\n",
    "        self.device = KCubePiezo.CreateKCubePiezo(self.serial_number)\n",
    "        \n",
    "        #connection status\n",
    "        self.connected = False\n",
    "\n",
    "    def connect(self):\n",
    "        #initialize communication\n",
    "        \n",
    "        #connect if not connected\n",
    "        assert not self.connected\n",
    "        self.device.Connect(self.serial_number)\n",
    "        self.connected = True\n",
    "        \n",
    "        self.device.WaitForSettingsInitialized(5000)\n",
    "        self.device.StartPolling(250)\n",
    "        time.sleep(0.5)\n",
    "        self.device.EnableDevice()\n",
    "        time.sleep(0.5)\n",
    "        \n",
    "        config = self.device.GetPiezoConfiguration(self.serial_number)\n",
    "        info = self.device.GetDeviceInfo()\n",
    "        maxVolts = self.device.GetMaxOutputVoltage()\n",
    "        self.max_v =  Decimal.ToDouble(maxVolts)\n",
    "        \n",
    "        return config, info, self.max_v\n",
    "        \n",
    "        \n",
    "        \n",
    "    def close(self):\n",
    "        \n",
    "        if not self.connected:\n",
    "            print(f\"Not closing piezo device {self.serial_number}, it's not open!\")\n",
    "            return\n",
    "        \n",
    "        self.device.StopPolling()\n",
    "        self.device.Disconnect(True)\n",
    "\n",
    "    def set_output_voltages(self, voltage):\n",
    "        \n",
    "        if voltage > 0 and voltage<self.max_v:\n",
    "            #print(self.max_v)\n",
    "            print(Decimal(voltage))\n",
    "            i = self.device.SetOutputVoltage(Decimal(voltage))\n",
    "        else:\n",
    "            print('Invalid Voltage')\n",
    "            \n",
    "    def get_output_voltages(self):\n",
    "        \"\"\"Retrieve the output voltages as a list of floating-point numbers\"\"\"\n",
    "        return Decimal.ToDouble(self.device.GetOutputVoltage())"
   ]
  },
  {
   "cell_type": "code",
   "execution_count": 4,
   "id": "c982099c",
   "metadata": {},
   "outputs": [
    {
     "data": {
      "text/plain": [
       "['29500489', '29500495', '29500501', '69250571', '84868288', '84868295']"
      ]
     },
     "execution_count": 4,
     "metadata": {},
     "output_type": "execute_result"
    }
   ],
   "source": [
    "list_devices()"
   ]
  },
  {
   "cell_type": "code",
   "execution_count": 9,
   "id": "95ddb745",
   "metadata": {},
   "outputs": [
    {
     "name": "stdout",
     "output_type": "stream",
     "text": [
      "(<Thorlabs.MotionControl.KCube.PiezoCLI.KCubePiezoConfiguration object at 0x0000021A24DA2940>, <Thorlabs.MotionControl.DeviceManagerCLI.SingleDeviceInfo object at 0x0000021A24DA2CD0>, 75.0)\n"
     ]
    }
   ],
   "source": [
    "pz = KPZ(list_devices()[2])\n",
    "print(pz.connect())"
   ]
  },
  {
   "cell_type": "code",
   "execution_count": 15,
   "id": "839770af",
   "metadata": {},
   "outputs": [
    {
     "name": "stdout",
     "output_type": "stream",
     "text": [
      "0.0\n",
      "0.5\n"
     ]
    }
   ],
   "source": [
    "print(pz.get_output_voltages())\n",
    "pz.set_output_voltages(0.5)"
   ]
  },
  {
   "cell_type": "code",
   "execution_count": 16,
   "id": "a80d8c90",
   "metadata": {},
   "outputs": [
    {
     "name": "stdout",
     "output_type": "stream",
     "text": [
      "0.487533188879055\n"
     ]
    }
   ],
   "source": [
    "print(pz.get_output_voltages())"
   ]
  },
  {
   "cell_type": "code",
   "execution_count": 23,
   "id": "164bc219",
   "metadata": {},
   "outputs": [
    {
     "ename": "DeviceNotReadyException",
     "evalue": "Device is not connected\n   at Thorlabs.MotionControl.DeviceManagerCLI.ThorlabsGenericCoreDeviceCLI.VerifyDeviceConnected(Int32 functionDepth)\r\n   at Thorlabs.MotionControl.GenericPiezoCLI.Piezo.ThorlabsGenericPiezoCLI.StopPolling()",
     "output_type": "error",
     "traceback": [
      "\u001b[1;31m---------------------------------------------------------------------------\u001b[0m",
      "\u001b[1;31mDeviceNotReadyException\u001b[0m                   Traceback (most recent call last)",
      "\u001b[1;32m~\\AppData\\Local\\Temp/ipykernel_9476/427888071.py\u001b[0m in \u001b[0;36m<module>\u001b[1;34m\u001b[0m\n\u001b[1;32m----> 1\u001b[1;33m \u001b[0mpz\u001b[0m\u001b[1;33m.\u001b[0m\u001b[0mclose\u001b[0m\u001b[1;33m(\u001b[0m\u001b[1;33m)\u001b[0m\u001b[1;33m\u001b[0m\u001b[1;33m\u001b[0m\u001b[0m\n\u001b[0m",
      "\u001b[1;32m~\\AppData\\Local\\Temp/ipykernel_9476/744213073.py\u001b[0m in \u001b[0;36mclose\u001b[1;34m(self)\u001b[0m\n\u001b[0;32m     47\u001b[0m             \u001b[1;32mreturn\u001b[0m\u001b[1;33m\u001b[0m\u001b[1;33m\u001b[0m\u001b[0m\n\u001b[0;32m     48\u001b[0m \u001b[1;33m\u001b[0m\u001b[0m\n\u001b[1;32m---> 49\u001b[1;33m         \u001b[0mself\u001b[0m\u001b[1;33m.\u001b[0m\u001b[0mdevice\u001b[0m\u001b[1;33m.\u001b[0m\u001b[0mStopPolling\u001b[0m\u001b[1;33m(\u001b[0m\u001b[1;33m)\u001b[0m\u001b[1;33m\u001b[0m\u001b[1;33m\u001b[0m\u001b[0m\n\u001b[0m\u001b[0;32m     50\u001b[0m         \u001b[0mself\u001b[0m\u001b[1;33m.\u001b[0m\u001b[0mdevice\u001b[0m\u001b[1;33m.\u001b[0m\u001b[0mDisconnect\u001b[0m\u001b[1;33m(\u001b[0m\u001b[1;32mTrue\u001b[0m\u001b[1;33m)\u001b[0m\u001b[1;33m\u001b[0m\u001b[1;33m\u001b[0m\u001b[0m\n\u001b[0;32m     51\u001b[0m \u001b[1;33m\u001b[0m\u001b[0m\n",
      "\u001b[1;31mDeviceNotReadyException\u001b[0m: Device is not connected\n   at Thorlabs.MotionControl.DeviceManagerCLI.ThorlabsGenericCoreDeviceCLI.VerifyDeviceConnected(Int32 functionDepth)\r\n   at Thorlabs.MotionControl.GenericPiezoCLI.Piezo.ThorlabsGenericPiezoCLI.StopPolling()"
     ]
    }
   ],
   "source": [
    "pz.close()"
   ]
  },
  {
   "cell_type": "code",
   "execution_count": 4,
   "id": "04eceb0f",
   "metadata": {},
   "outputs": [],
   "source": [
    "clr.AddReference(\"Thorlabs.MotionControl.KCube.PiezoCLI\")\n",
    "clr.AddReference(\"Thorlabs.MotionControl.KCube.PositionAlignerCLI\")\n",
    "clr.AddReference(\"Thorlabs.MotionControl.TCube.StrainGaugeCLI\")\n",
    "clr.AddReference(\"Thorlabs.MotionControl.GenericPiezoCLI\")\n",
    "clr.AddReference(\"Thorlabs.MotionControl.DeviceManagerCLI\")\n",
    "clr.AddReference(\"System\")\n",
    "\n",
    "from Thorlabs.MotionControl.KCube.PiezoCLI import KCubePiezo\n",
    "from Thorlabs.MotionControl.TCube.StrainGaugeCLI import TCubeStrainGauge\n",
    "from Thorlabs.MotionControl.KCube.PiezoCLI import KCubePiezo\n",
    "from Thorlabs.MotionControl.DeviceManagerCLI import DeviceManagerCLI\n",
    "from Thorlabs.MotionControl.GenericPiezoCLI.Piezo import *\n",
    "from Thorlabs.MotionControl.GenericPiezoCLI.StrainGauge import *\n",
    "from Thorlabs.MotionControl.GenericPiezoCLI.Settings import *\n",
    "from Thorlabs.MotionControl.KCube.PositionAlignerCLI import KCubePositionAligner\n",
    "from Thorlabs.MotionControl.KCube.PositionAlignerCLI import * \n",
    "\n",
    "class KPA():\n",
    "    def __init__(self, serial_number):\n",
    "        #initializes from a serial number\n",
    "        self.serial_number = str(serial_number)\n",
    "        DeviceManagerCLI.BuildDeviceList()\n",
    "        \n",
    "        #initializes the device\n",
    "        self.device = KCubePositionAligner.CreateKCubePositionAligner(self.serial_number)\n",
    "        \n",
    "        #initializes the connected state\n",
    "        self.connected = False\n",
    "        \n",
    "        \n",
    "    def connect(self):\n",
    "        #initialize communication\n",
    "        \n",
    "        #connect if not connected\n",
    "        assert not self.connected\n",
    "        self.device.Connect(self.serial_number)\n",
    "        self.connected = True\n",
    "        \n",
    "        self.device.WaitForSettingsInitialized(5000)\n",
    "        self.device.StartPolling(250)\n",
    "        time.sleep(0.5)\n",
    "        self.device.EnableDevice()\n",
    "        time.sleep(0.5)\n",
    "        \n",
    "        self.device.SetOperatingMode(PositionAlignerStatus.OperatingModes.Monitor, False)\n",
    "        \n",
    "        info = self.device.GetDeviceInfo()\n",
    "        \n",
    "        print(info)\n",
    "        \n",
    "        \n",
    "        \n",
    "    def close(self):\n",
    "        \n",
    "        if not self.connected:\n",
    "            print(f\"Not closing KPA device {self.serial_number}, it's not open!\")\n",
    "            return\n",
    "        \n",
    "        self.device.StopPolling()\n",
    "        self.device.Disconnect(True)\n",
    "        \n",
    "    def get_position(self):\n",
    "        status = self.device.Status\n",
    "        time.sleep(0.25)\n",
    "        read_x,read_y = status.PositionDifference.X, self.device.Status.PositionDifference.Y\n",
    "        read_sum = status.Sum\n",
    "        return read_x,read_y,read_sum"
   ]
  },
  {
   "cell_type": "code",
   "execution_count": 11,
   "id": "f1aa3223",
   "metadata": {},
   "outputs": [
    {
     "data": {
      "text/plain": [
       "['29500489', '29500495', '29500501', '69250571', '84868288', '84868295']"
      ]
     },
     "execution_count": 11,
     "metadata": {},
     "output_type": "execute_result"
    }
   ],
   "source": [
    "list_devices()"
   ]
  },
  {
   "cell_type": "code",
   "execution_count": 12,
   "id": "aa205bb4",
   "metadata": {},
   "outputs": [
    {
     "name": "stdout",
     "output_type": "stream",
     "text": [
      "Thorlabs.MotionControl.DeviceManagerCLI.SingleDeviceInfo\n",
      "(-0.0003051850947599719, 0.0003051850947599719, 0.0)\n"
     ]
    }
   ],
   "source": [
    "kpa = KPA(list_devices()[3])\n",
    "kpa.connect()\n",
    "print(kpa.get_position())"
   ]
  },
  {
   "cell_type": "code",
   "execution_count": 11,
   "id": "4cb81ae6",
   "metadata": {},
   "outputs": [
    {
     "name": "stdout",
     "output_type": "stream",
     "text": [
      "Not closing KPA device 69250571, it's not open!\n"
     ]
    }
   ],
   "source": [
    "kpa.close()"
   ]
  },
  {
   "cell_type": "code",
   "execution_count": 5,
   "id": "e77c7957",
   "metadata": {},
   "outputs": [],
   "source": [
    "clr.AddReference(\"Thorlabs.MotionControl.KCube.PiezoCLI\")\n",
    "clr.AddReference(\"Thorlabs.MotionControl.KCube.PositionAlignerCLI\")\n",
    "clr.AddReference(\"Thorlabs.MotionControl.TCube.StrainGaugeCLI\")\n",
    "clr.AddReference(\"Thorlabs.MotionControl.GenericPiezoCLI\")\n",
    "clr.AddReference(\"Thorlabs.MotionControl.DeviceManagerCLI\")\n",
    "clr.AddReference(\"System\")\n",
    "\n",
    "from Thorlabs.MotionControl.KCube.PiezoCLI import KCubePiezo\n",
    "from Thorlabs.MotionControl.TCube.StrainGaugeCLI import TCubeStrainGauge\n",
    "from Thorlabs.MotionControl.KCube.PiezoCLI import KCubePiezo\n",
    "from Thorlabs.MotionControl.DeviceManagerCLI import DeviceManagerCLI\n",
    "from Thorlabs.MotionControl.GenericPiezoCLI.Piezo import *\n",
    "from Thorlabs.MotionControl.GenericPiezoCLI.StrainGauge import *\n",
    "from Thorlabs.MotionControl.GenericPiezoCLI.Settings import *\n",
    "from Thorlabs.MotionControl.KCube.PositionAlignerCLI import KCubePositionAligner\n",
    "\n",
    "class TSG():\n",
    "    def __init__(self, serial_number):\n",
    "        #initializes from a serial number\n",
    "        self.serial_number = str(serial_number)\n",
    "        DeviceManagerCLI.BuildDeviceList()\n",
    "        \n",
    "        #initializes the device\n",
    "        self.device = TCubeStrainGauge.CreateTCubeStrainGauge(self.serial_number)\n",
    "        \n",
    "        #initializes the connected state\n",
    "        self.connected = False\n",
    "        \n",
    "        \n",
    "    def connect(self):\n",
    "        #initialize communication\n",
    "        \n",
    "        #connect if not connected\n",
    "        assert not self.connected\n",
    "        self.device.Connect(self.serial_number)\n",
    "        self.connected = True\n",
    "        \n",
    "        self.device.WaitForSettingsInitialized(5000)\n",
    "        self.device.StartPolling(250)\n",
    "        time.sleep(0.5)\n",
    "        self.device.EnableDevice()\n",
    "        time.sleep(0.5)\n",
    "        \n",
    "        #config = self.device.GetPiezoConfiguration(self.serial_number)\n",
    "        info = self.device.GetDeviceInfo()\n",
    "        #maxVolts = self.device.GetMaxOutputVoltage()\n",
    "        #self.max_v =  Decimal.ToDouble(maxVolts)\n",
    "        \n",
    "        print(info)\n",
    "        \n",
    "        \n",
    "        \n",
    "    def close(self):\n",
    "        \n",
    "        if not self.connected:\n",
    "            print(f\"Not closing KSG device {self.serial_number}, it's not open!\")\n",
    "            return\n",
    "        \n",
    "        self.device.StopPolling()\n",
    "        self.device.Disconnect(True)\n",
    "        \n",
    "\n",
    "    def get_voltage(self):\n",
    "        self.device.SetDisplayMode(DisplayModeSettings.TSGDisplayModes.Voltage)\n",
    "        time.sleep(0.25)\n",
    "        read = self.device.Status.Reading\n",
    "        return Decimal.ToDouble(read)\n",
    "    \n",
    "    def get_position(self):\n",
    "        self.device.SetDisplayMode(DisplayModeSettings.TSGDisplayModes.Position)\n",
    "        time.sleep(0.25)\n",
    "        read = self.device.Status.Reading\n",
    "        return Decimal.ToDouble(read)\n",
    "    \n",
    "    def zero_position(self):\n",
    "        self.device.SetDisplayMode(DisplayModeSettings.TSGDisplayModes.Position)\n",
    "        time.sleep(0.25)\n",
    "        self.device.SetZero()\n",
    "        print(\"zeroing\")\n",
    "        time.sleep(10)\n",
    "        \n",
    "    \n",
    "    def get_max_travel(self):\n",
    "        return Decimal.ToDouble(tsg.device.GetMaxTravel())"
   ]
  },
  {
   "cell_type": "code",
   "execution_count": 6,
   "id": "90a94b03",
   "metadata": {},
   "outputs": [
    {
     "data": {
      "text/plain": [
       "['29500489', '29500495', '29500501', '69250571', '84868288', '84868295']"
      ]
     },
     "execution_count": 6,
     "metadata": {},
     "output_type": "execute_result"
    }
   ],
   "source": [
    "list_devices()"
   ]
  },
  {
   "cell_type": "code",
   "execution_count": 14,
   "id": "c6f36878",
   "metadata": {},
   "outputs": [
    {
     "ename": "NullReferenceException",
     "evalue": "Object reference not set to an instance of an object.\n   at Thorlabs.MotionControl.PrivateInternal.Settings.DeviceConfigurationBase.VerifyDeviceSettingsName(Boolean replace)\r\n   at Thorlabs.MotionControl.PrivateInternal.Settings.DeviceConfigurationBase.ReadConfiguration(DeviceConfigurationNode node, GeneralSettings generalSettings)\r\n   at Thorlabs.MotionControl.PrivateInternal.Settings.DeviceConfigurationBase.LoadConfiguration(String serialNo, GeneralSettings generalSettings)\r\n   at Thorlabs.MotionControl.TCube.StrainGaugeCLI.TCubeStrainGauge.InitializeDevice(String serialNo)\r\n   at Thorlabs.MotionControl.TCube.StrainGaugeCLI.TCubeStrainGauge.CreateTCubeStrainGauge(String serialNo)",
     "output_type": "error",
     "traceback": [
      "\u001b[1;31m---------------------------------------------------------------------------\u001b[0m",
      "\u001b[1;31mNullReferenceException\u001b[0m                    Traceback (most recent call last)",
      "\u001b[1;32m~\\AppData\\Local\\Temp/ipykernel_11688/1326152066.py\u001b[0m in \u001b[0;36m<module>\u001b[1;34m\u001b[0m\n\u001b[1;32m----> 1\u001b[1;33m \u001b[0mtsg\u001b[0m \u001b[1;33m=\u001b[0m \u001b[0mTSG\u001b[0m\u001b[1;33m(\u001b[0m\u001b[0mlist_devices\u001b[0m\u001b[1;33m(\u001b[0m\u001b[1;33m)\u001b[0m\u001b[1;33m[\u001b[0m\u001b[1;36m4\u001b[0m\u001b[1;33m]\u001b[0m\u001b[1;33m)\u001b[0m\u001b[1;33m\u001b[0m\u001b[1;33m\u001b[0m\u001b[0m\n\u001b[0m\u001b[0;32m      2\u001b[0m \u001b[0mtsg\u001b[0m\u001b[1;33m.\u001b[0m\u001b[0mconnect\u001b[0m\u001b[1;33m(\u001b[0m\u001b[1;33m)\u001b[0m\u001b[1;33m\u001b[0m\u001b[1;33m\u001b[0m\u001b[0m\n",
      "\u001b[1;32m~\\AppData\\Local\\Temp/ipykernel_11688/445659568.py\u001b[0m in \u001b[0;36m__init__\u001b[1;34m(self, serial_number)\u001b[0m\n\u001b[0;32m     22\u001b[0m \u001b[1;33m\u001b[0m\u001b[0m\n\u001b[0;32m     23\u001b[0m         \u001b[1;31m#initializes the device\u001b[0m\u001b[1;33m\u001b[0m\u001b[1;33m\u001b[0m\u001b[0m\n\u001b[1;32m---> 24\u001b[1;33m         \u001b[0mself\u001b[0m\u001b[1;33m.\u001b[0m\u001b[0mdevice\u001b[0m \u001b[1;33m=\u001b[0m \u001b[0mTCubeStrainGauge\u001b[0m\u001b[1;33m.\u001b[0m\u001b[0mCreateTCubeStrainGauge\u001b[0m\u001b[1;33m(\u001b[0m\u001b[0mself\u001b[0m\u001b[1;33m.\u001b[0m\u001b[0mserial_number\u001b[0m\u001b[1;33m)\u001b[0m\u001b[1;33m\u001b[0m\u001b[1;33m\u001b[0m\u001b[0m\n\u001b[0m\u001b[0;32m     25\u001b[0m \u001b[1;33m\u001b[0m\u001b[0m\n\u001b[0;32m     26\u001b[0m         \u001b[1;31m#initializes the connected state\u001b[0m\u001b[1;33m\u001b[0m\u001b[1;33m\u001b[0m\u001b[0m\n",
      "\u001b[1;31mNullReferenceException\u001b[0m: Object reference not set to an instance of an object.\n   at Thorlabs.MotionControl.PrivateInternal.Settings.DeviceConfigurationBase.VerifyDeviceSettingsName(Boolean replace)\r\n   at Thorlabs.MotionControl.PrivateInternal.Settings.DeviceConfigurationBase.ReadConfiguration(DeviceConfigurationNode node, GeneralSettings generalSettings)\r\n   at Thorlabs.MotionControl.PrivateInternal.Settings.DeviceConfigurationBase.LoadConfiguration(String serialNo, GeneralSettings generalSettings)\r\n   at Thorlabs.MotionControl.TCube.StrainGaugeCLI.TCubeStrainGauge.InitializeDevice(String serialNo)\r\n   at Thorlabs.MotionControl.TCube.StrainGaugeCLI.TCubeStrainGauge.CreateTCubeStrainGauge(String serialNo)"
     ]
    }
   ],
   "source": [
    "tsg = TSG(list_devices()[4])\n",
    "tsg.connect()"
   ]
  },
  {
   "cell_type": "code",
   "execution_count": 34,
   "id": "10472eec",
   "metadata": {},
   "outputs": [
    {
     "name": "stdout",
     "output_type": "stream",
     "text": [
      "-0.0396740623187963\n",
      "-0.0799584948271126\n"
     ]
    }
   ],
   "source": [
    "print(tsg.get_voltage())\n",
    "print(tsg.get_position())"
   ]
  },
  {
   "cell_type": "code",
   "execution_count": 35,
   "id": "4490d90a",
   "metadata": {},
   "outputs": [
    {
     "data": {
      "text/plain": [
       "20.0"
      ]
     },
     "execution_count": 35,
     "metadata": {},
     "output_type": "execute_result"
    }
   ],
   "source": [
    "Decimal.ToDouble(tsg.device.GetMaxTravel())"
   ]
  },
  {
   "cell_type": "code",
   "execution_count": 36,
   "id": "b06ed766",
   "metadata": {},
   "outputs": [],
   "source": [
    "tsg.device.SetZero()"
   ]
  },
  {
   "cell_type": "code",
   "execution_count": 37,
   "id": "43fc57b4",
   "metadata": {},
   "outputs": [],
   "source": [
    "tsg.close()"
   ]
  },
  {
   "cell_type": "markdown",
   "id": "cc400628",
   "metadata": {},
   "source": [
    "# Testing"
   ]
  },
  {
   "cell_type": "code",
   "execution_count": 12,
   "id": "6cad1c0b",
   "metadata": {},
   "outputs": [],
   "source": [
    "import clr \n",
    "import sys\n",
    "import time\n",
    "\n",
    "#this appends to the global path\n",
    "sys.path.append(\"C:\\Program Files\\Thorlabs\\Kinesis\")\n",
    "\n",
    "#This loads the necessary libraries CNET\n",
    "clr.AddReference(\"Thorlabs.MotionControl.Benchtop.PiezoCLI\")\n",
    "clr.AddReference(\"Thorlabs.MotionControl.DeviceManagerCLI\")\n",
    "clr.AddReference(\"Thorlabs.MotionControl.KCube.PiezoCLI\")\n",
    "clr.AddReference(\"Thorlabs.MotionControl.KCube.PositionAlignerCLI\")\n",
    "clr.AddReference(\"Thorlabs.MotionControl.KCube.StrainGaugeCLI\")\n",
    "clr.AddReference(\"System\")\n",
    "\n",
    "from Thorlabs.MotionControl.KCube.PiezoCLI import KCubePiezo\n",
    "from Thorlabs.MotionControl.KCube.StrainGaugeCLI import KCubeStrainGauge\n",
    "from Thorlabs.MotionControl.DeviceManagerCLI import DeviceManagerCLI\n",
    "from Thorlabs.MotionControl.GenericPiezoCLI.Piezo import *\n",
    "from Thorlabs.MotionControl.KCube.PositionAlignerCLI import KCubePositionAligner\n",
    "\n",
    "\n",
    "from System import Decimal\n",
    "\n",
    "def list_devices():\n",
    "    \"\"\"Return a list of Kinesis serial numbers\"\"\"\n",
    "    DeviceManagerCLI.BuildDeviceList()\n",
    "    return DeviceManagerCLI.GetDeviceList()"
   ]
  },
  {
   "cell_type": "code",
   "execution_count": 13,
   "id": "ba395c02",
   "metadata": {},
   "outputs": [],
   "source": [
    "clr.AddReference(\"Thorlabs.MotionControl.KCube.PiezoCLI\")\n",
    "clr.AddReference(\"Thorlabs.MotionControl.KCube.PositionAlignerCLI\")\n",
    "clr.AddReference(\"Thorlabs.MotionControl.TCube.StrainGaugeCLI\")\n",
    "clr.AddReference(\"Thorlabs.MotionControl.GenericPiezoCLI\")\n",
    "clr.AddReference(\"Thorlabs.MotionControl.DeviceManagerCLI\")\n",
    "clr.AddReference(\"System\")\n",
    "\n",
    "from Thorlabs.MotionControl.KCube.PiezoCLI import KCubePiezo\n",
    "from Thorlabs.MotionControl.TCube.StrainGaugeCLI import TCubeStrainGauge\n",
    "from Thorlabs.MotionControl.KCube.PiezoCLI import KCubePiezo\n",
    "from Thorlabs.MotionControl.DeviceManagerCLI import DeviceManagerCLI\n",
    "from Thorlabs.MotionControl.GenericPiezoCLI.Piezo import *\n",
    "from Thorlabs.MotionControl.GenericPiezoCLI.StrainGauge import *\n",
    "from Thorlabs.MotionControl.GenericPiezoCLI.Settings import *\n",
    "from Thorlabs.MotionControl.KCube.PositionAlignerCLI import KCubePositionAligner\n",
    "from Thorlabs.MotionControl.KCube.PositionAlignerCLI import * \n",
    "\n",
    "class KPA():\n",
    "    def __init__(self, serial_number):\n",
    "        #initializes from a serial number\n",
    "        self.serial_number = str(serial_number)\n",
    "        DeviceManagerCLI.BuildDeviceList()\n",
    "        \n",
    "        #initializes the device\n",
    "        self.device = KCubePositionAligner.CreateKCubePositionAligner(self.serial_number)\n",
    "        \n",
    "        #initializes the connected state\n",
    "        self.connected = False\n",
    "        \n",
    "        \n",
    "    def connect(self):\n",
    "        #initialize communication\n",
    "        \n",
    "        #connect if not connected\n",
    "        assert not self.connected\n",
    "        self.device.Connect(self.serial_number)\n",
    "        self.connected = True\n",
    "        \n",
    "        self.device.WaitForSettingsInitialized(5000)\n",
    "        self.device.StartPolling(250)\n",
    "        time.sleep(0.5)\n",
    "        self.device.EnableDevice()\n",
    "        time.sleep(0.5)\n",
    "        \n",
    "        self.device.SetOperatingMode(PositionAlignerStatus.OperatingModes.OpenLoop, False)\n",
    "        \n",
    "        info = self.device.GetDeviceInfo()\n",
    "        \n",
    "        print(info)\n",
    "        \n",
    "        \n",
    "        \n",
    "    def close(self):\n",
    "        \n",
    "        if not self.connected:\n",
    "            print(f\"Not closing KPA device {self.serial_number}, it's not open!\")\n",
    "            return\n",
    "        \n",
    "        self.device.StopPolling()\n",
    "        self.device.Disconnect(True)\n",
    "        \n",
    "    def get_position(self):\n",
    "        status = self.device.Status\n",
    "        time.sleep(0.25)\n",
    "        read_x,read_y = status.PositionDifference.X, self.device.Status.PositionDifference.Y\n",
    "        read_sum = status.Sum\n",
    "        return read_x,read_y,read_sum"
   ]
  },
  {
   "cell_type": "code",
   "execution_count": 14,
   "id": "c7113bc5",
   "metadata": {},
   "outputs": [
    {
     "name": "stdout",
     "output_type": "stream",
     "text": [
      "Thorlabs.MotionControl.DeviceManagerCLI.SingleDeviceInfo\n"
     ]
    }
   ],
   "source": [
    "kpa = KPA(list_devices()[3])\n",
    "kpa.connect()\n"
   ]
  },
  {
   "cell_type": "code",
   "execution_count": 15,
   "id": "76d3cb87",
   "metadata": {},
   "outputs": [
    {
     "data": {
      "text/plain": [
       "(-0.0003051850947599719, 0.0, 0.0)"
      ]
     },
     "execution_count": 15,
     "metadata": {},
     "output_type": "execute_result"
    }
   ],
   "source": [
    "kpa.get_position()"
   ]
  },
  {
   "cell_type": "code",
   "execution_count": 11,
   "id": "7a655276",
   "metadata": {},
   "outputs": [],
   "source": [
    "kpa.close()"
   ]
  },
  {
   "cell_type": "code",
   "execution_count": 1,
   "id": "f231c4d5",
   "metadata": {},
   "outputs": [
    {
     "ename": "AttributeError",
     "evalue": "'cube_widget' object has no attribute 'kpa'",
     "output_type": "error",
     "traceback": [
      "\u001b[1;31m---------------------------------------------------------------------------\u001b[0m",
      "\u001b[1;31mAttributeError\u001b[0m                            Traceback (most recent call last)",
      "\u001b[1;32m~\\AppData\\Local\\Temp/ipykernel_5612/3012111889.py\u001b[0m in \u001b[0;36m<module>\u001b[1;34m\u001b[0m\n\u001b[0;32m     64\u001b[0m \u001b[1;32mif\u001b[0m \u001b[0m__name__\u001b[0m \u001b[1;33m==\u001b[0m \u001b[1;34m\"__main__\"\u001b[0m\u001b[1;33m:\u001b[0m\u001b[1;33m\u001b[0m\u001b[1;33m\u001b[0m\u001b[0m\n\u001b[0;32m     65\u001b[0m     \u001b[1;31m#start the widget\u001b[0m\u001b[1;33m\u001b[0m\u001b[1;33m\u001b[0m\u001b[0m\n\u001b[1;32m---> 66\u001b[1;33m     \u001b[0mui\u001b[0m \u001b[1;33m=\u001b[0m \u001b[0mcube_widget\u001b[0m\u001b[1;33m(\u001b[0m\u001b[1;33m)\u001b[0m\u001b[1;33m\u001b[0m\u001b[1;33m\u001b[0m\u001b[0m\n\u001b[0m\u001b[0;32m     67\u001b[0m     \u001b[1;31m#show the widget\u001b[0m\u001b[1;33m\u001b[0m\u001b[1;33m\u001b[0m\u001b[0m\n\u001b[0;32m     68\u001b[0m     \u001b[0mui\u001b[0m\u001b[1;33m.\u001b[0m\u001b[0mshow\u001b[0m\u001b[1;33m(\u001b[0m\u001b[1;33m)\u001b[0m\u001b[1;33m\u001b[0m\u001b[1;33m\u001b[0m\u001b[0m\n",
      "\u001b[1;32m~\\AppData\\Local\\Temp/ipykernel_5612/3012111889.py\u001b[0m in \u001b[0;36m__init__\u001b[1;34m(self, parent)\u001b[0m\n\u001b[0;32m     19\u001b[0m         \u001b[0mself\u001b[0m\u001b[1;33m.\u001b[0m\u001b[0mglobal_layout\u001b[0m\u001b[1;33m.\u001b[0m\u001b[0maddWidget\u001b[0m\u001b[1;33m(\u001b[0m\u001b[0mself\u001b[0m\u001b[1;33m.\u001b[0m\u001b[0mgraphWidget\u001b[0m\u001b[1;33m)\u001b[0m\u001b[1;33m\u001b[0m\u001b[1;33m\u001b[0m\u001b[0m\n\u001b[0;32m     20\u001b[0m \u001b[1;33m\u001b[0m\u001b[0m\n\u001b[1;32m---> 21\u001b[1;33m         \u001b[0mself\u001b[0m\u001b[1;33m.\u001b[0m\u001b[0mx\u001b[0m \u001b[1;33m=\u001b[0m \u001b[1;33m[\u001b[0m \u001b[0mself\u001b[0m\u001b[1;33m.\u001b[0m\u001b[0mkpa\u001b[0m\u001b[1;33m.\u001b[0m\u001b[0mget_position\u001b[0m\u001b[1;33m(\u001b[0m\u001b[1;33m)\u001b[0m\u001b[1;33m[\u001b[0m\u001b[1;36m0\u001b[0m\u001b[1;33m]\u001b[0m \u001b[1;33m]\u001b[0m\u001b[1;33m\u001b[0m\u001b[1;33m\u001b[0m\u001b[0m\n\u001b[0m\u001b[0;32m     22\u001b[0m         \u001b[0mself\u001b[0m\u001b[1;33m.\u001b[0m\u001b[0my\u001b[0m \u001b[1;33m=\u001b[0m \u001b[1;33m[\u001b[0m \u001b[0mself\u001b[0m\u001b[1;33m.\u001b[0m\u001b[0mkpa\u001b[0m\u001b[1;33m.\u001b[0m\u001b[0mget_position\u001b[0m\u001b[1;33m(\u001b[0m\u001b[1;33m)\u001b[0m\u001b[1;33m[\u001b[0m\u001b[1;36m1\u001b[0m\u001b[1;33m]\u001b[0m \u001b[1;33m]\u001b[0m\u001b[1;33m\u001b[0m\u001b[1;33m\u001b[0m\u001b[0m\n\u001b[0;32m     23\u001b[0m \u001b[1;33m\u001b[0m\u001b[0m\n",
      "\u001b[1;31mAttributeError\u001b[0m: 'cube_widget' object has no attribute 'kpa'"
     ]
    }
   ],
   "source": [
    "from PyQt5.QtCore import *\n",
    "from PyQt5.QtWidgets import *\n",
    "from PyQt5.QtGui import *\n",
    "from pyqtgraph import PlotWidget, plot\n",
    "import pyqtgraph as pg\n",
    "import sys  # We need sys so that we can pass argv to QApplication\n",
    "import os\n",
    "import numpy as np\n",
    "\n",
    "class cube_widget(QWidget):\n",
    "\n",
    "    def __init__(self, parent=None):\n",
    "        super().__init__()\n",
    "        \n",
    "        self.global_layout = QHBoxLayout(self)\n",
    "        \n",
    "        self.graphWidget = pg.PlotWidget()\n",
    "        \n",
    "        self.global_layout.addWidget(self.graphWidget)\n",
    "\n",
    "        self.x = [ kpa.get_position()[0] ] \n",
    "        self.y = [ kpa.get_position()[1] ]\n",
    "        \n",
    "        print(self.x,self.y)\n",
    "        \n",
    "        self.graphWidget.setBackground('w')\n",
    "        \n",
    "        self.graphWidget.showGrid(x = True, y = True, alpha = 1.0)\n",
    "        \n",
    "        self.graphWidget.setXRange(-0.008, 0.008, padding=0)\n",
    "        self.graphWidget.setYRange(-0.008, 0.008, padding=0)\n",
    "\n",
    "        pen = pg.mkPen(color=(255, 0, 0))\n",
    "        self.data_line =  self.graphWidget.plot(self.x, self.y, pen=pen, symbol='o')\n",
    "        \n",
    "        self.timer = QTimer()\n",
    "        self.timer.setInterval(80)\n",
    "        self.timer.timeout.connect(self.update_plot_data)\n",
    "        self.timer.start()\n",
    "\n",
    "    def update_plot_data(self):\n",
    "        \n",
    "        print(self.x,self.y)\n",
    "        \n",
    "        self.x = [ kpa.get_position()[0] ] \n",
    "\n",
    "        self.y = [ kpa.get_position()[1] ]   \n",
    "\n",
    "        self.data_line.setData(self.x, self.y)  # Update the data.\n",
    "    \n",
    "    def closeEvent(self,event):\n",
    "        self.kpa.close()\n",
    "        print('It´s closed, bby')\n",
    "        event.accept()\n",
    "\n",
    "qapp = QCoreApplication.instance()\n",
    "if qapp is None:\n",
    "    qapp = QApplication(sys.argv)\n",
    "    #file = QFile(\":/dark/stylesheet.qss\")\n",
    "    #file.open(QFile.ReadOnly | QFile.Text)\n",
    "    #stream = QTextStream(file)\n",
    "    #qapp.setStyleSheet(stream.readAll())\n",
    "    \n",
    "if __name__ == \"__main__\": \n",
    "    #start the widget\n",
    "    ui = cube_widget()\n",
    "    #show the widget\n",
    "    ui.show()\n",
    "    #start the events loop\n",
    "    qapp.exec_()"
   ]
  },
  {
   "cell_type": "markdown",
   "id": "c0906a3c",
   "metadata": {},
   "source": [
    "# Impulse modelling"
   ]
  },
  {
   "cell_type": "code",
   "execution_count": 18,
   "id": "b8b5d92f",
   "metadata": {},
   "outputs": [],
   "source": [
    "#ind: 0 for x_cube, 1 for z_cube, 2 for y_cube\n",
    "def impulse(ind,v):\n",
    "    cubes=[KPZ(list_devices()[0]),KPZ(list_devices()[1]),KPZ(list_devices()[2])]\n",
    "    tsg=TSG(list_devices()[4])\n",
    "    tsg.connect()\n",
    "    cubes[ind].connect()\n",
    "    cubes[ind].set_output_voltages(v)\n",
    "    time.sleep(0.1)\n",
    "    a=cubes[ind].get_output_voltages()\n",
    "    b=tsg.get_position()\n",
    "    print('Impulse voltage applied: ' + str(a))\n",
    "    print('Position Measured: ' + str(b))\n",
    "    cubes[ind].close()\n",
    "    tsg.close()"
   ]
  },
  {
   "cell_type": "code",
   "execution_count": 19,
   "id": "69dd29db",
   "metadata": {},
   "outputs": [
    {
     "name": "stdout",
     "output_type": "stream",
     "text": [
      "Thorlabs.MotionControl.DeviceManagerCLI.SingleDeviceInfo\n",
      "5\n",
      "Impulse voltage applied: 7.41828669087802\n",
      "Position Measured: -0.443128757591479\n"
     ]
    }
   ],
   "source": [
    "impulse(2,5) #impulse to x-cube of _ Volts"
   ]
  },
  {
   "cell_type": "markdown",
   "id": "b0d850e1",
   "metadata": {},
   "source": [
    "### "
   ]
  }
 ],
 "metadata": {
  "kernelspec": {
   "display_name": "Python 3 (ipykernel)",
   "language": "python",
   "name": "python3"
  },
  "language_info": {
   "codemirror_mode": {
    "name": "ipython",
    "version": 3
   },
   "file_extension": ".py",
   "mimetype": "text/x-python",
   "name": "python",
   "nbconvert_exporter": "python",
   "pygments_lexer": "ipython3",
   "version": "3.9.12"
  }
 },
 "nbformat": 4,
 "nbformat_minor": 5
}
