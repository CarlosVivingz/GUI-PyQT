{
 "cells": [
  {
   "cell_type": "markdown",
   "id": "802efae2",
   "metadata": {},
   "source": [
    "# Classification and Calibration Doings"
   ]
  },
  {
   "cell_type": "code",
   "execution_count": 5,
   "id": "b328434c",
   "metadata": {},
   "outputs": [],
   "source": [
    "from PyQt5.QtCore import *\n",
    "from PyQt5.QtWidgets import *\n",
    "from PyQt5.QtGui import *\n",
    "from pyqtgraph import PlotWidget, plot\n",
    "import pyqtgraph as pg\n",
    "import sys  # We need sys so that we can pass argv to QApplication\n",
    "import os\n",
    "import numpy as np\n",
    "\n",
    "\n",
    "class calibration_mode(QWidget):\n",
    "    \"\"\"\n",
    "    This is my widget.\n",
    "    \"\"\"\n",
    "    def __init__(self):\n",
    "        super().__init__()\n",
    "        \n",
    "        self.global_layout = QHBoxLayout(self)\n",
    "        \n",
    "        #addons container\n",
    "        containeradd=QGroupBox(\"Extra Controls\")\n",
    "        layout1=QVBoxLayout(containeradd)\n",
    "        self.global_layout.addWidget(containeradd)\n",
    "        \n",
    "        #graph container\n",
    "        containergraph=QGroupBox(\"Data Recording\")\n",
    "        layout2=QVBoxLayout(containergraph)\n",
    "        self.global_layout.addWidget(containergraph)\n",
    "        \n",
    "        \n",
    "        \n",
    "qapp = QCoreApplication.instance()\n",
    "if qapp is None:\n",
    "    qapp = QApplication(sys.argv)\n",
    "    \n",
    "if __name__ == \"__main__\": \n",
    "    #start the widget\n",
    "    ui = calibration_mode()\n",
    "    #show the widget\n",
    "    ui.show()\n",
    "    #start the events loop\n",
    "    qapp.exec_()"
   ]
  },
  {
   "cell_type": "code",
   "execution_count": null,
   "id": "d757cf3b",
   "metadata": {},
   "outputs": [],
   "source": []
  }
 ],
 "metadata": {
  "kernelspec": {
   "display_name": "Python 3 (ipykernel)",
   "language": "python",
   "name": "python3"
  },
  "language_info": {
   "codemirror_mode": {
    "name": "ipython",
    "version": 3
   },
   "file_extension": ".py",
   "mimetype": "text/x-python",
   "name": "python",
   "nbconvert_exporter": "python",
   "pygments_lexer": "ipython3",
   "version": "3.9.12"
  }
 },
 "nbformat": 4,
 "nbformat_minor": 5
}
