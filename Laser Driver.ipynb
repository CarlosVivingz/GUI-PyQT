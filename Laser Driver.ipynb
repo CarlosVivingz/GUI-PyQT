{
 "cells": [
  {
   "cell_type": "code",
   "execution_count": 1,
   "id": "15a008a1",
   "metadata": {},
   "outputs": [],
   "source": [
    "import serial\n",
    "import time\n",
    "import math\n",
    "import subprocess\n",
    "import os"
   ]
  },
  {
   "cell_type": "code",
   "execution_count": 2,
   "id": "8df9f51e",
   "metadata": {},
   "outputs": [
    {
     "name": "stdout",
     "output_type": "stream",
     "text": [
      "Serial port used: COM4\n"
     ]
    }
   ],
   "source": [
    "# Serial port\n",
    "stream = os.popen('powershell -command \"[System.IO.Ports.SerialPort]::getportnames()\"')\n",
    "output = stream.read()[:-1] #return output of used usb, if no others are connected\n",
    "output='COM4'\n",
    "\n",
    "ser = serial.Serial(output) # Open serial port which is connected to the device\n",
    "ser.baudrate = 57600\n",
    "print(\"Serial port used: \" + ser.name) # Check which port was really used"
   ]
  },
  {
   "cell_type": "code",
   "execution_count": 3,
   "id": "88d965e9",
   "metadata": {},
   "outputs": [
    {
     "data": {
      "text/plain": [
       "Serial<id=0x1f00f6cca30, open=True>(port='COM5', baudrate=57600, bytesize=8, parity='N', stopbits=1, timeout=None, xonxoff=False, rtscts=False, dsrdtr=False)"
      ]
     },
     "execution_count": 3,
     "metadata": {},
     "output_type": "execute_result"
    }
   ],
   "source": [
    "ser"
   ]
  },
  {
   "cell_type": "code",
   "execution_count": 6,
   "id": "367f670c",
   "metadata": {},
   "outputs": [
    {
     "ename": "Error",
     "evalue": "Odd-length string",
     "output_type": "error",
     "traceback": [
      "\u001b[1;31m---------------------------------------------------------------------------\u001b[0m",
      "\u001b[1;31mError\u001b[0m                                     Traceback (most recent call last)",
      "\u001b[1;32m~\\AppData\\Local\\Temp/ipykernel_9128/528844312.py\u001b[0m in \u001b[0;36m<module>\u001b[1;34m\u001b[0m\n\u001b[0;32m      1\u001b[0m \u001b[1;32mimport\u001b[0m \u001b[0mbinascii\u001b[0m\u001b[1;33m\u001b[0m\u001b[1;33m\u001b[0m\u001b[0m\n\u001b[1;32m----> 2\u001b[1;33m \u001b[0mbinascii\u001b[0m\u001b[1;33m.\u001b[0m\u001b[0munhexlify\u001b[0m\u001b[1;33m(\u001b[0m\u001b[1;34mb'128'\u001b[0m\u001b[1;33m)\u001b[0m\u001b[1;33m\u001b[0m\u001b[1;33m\u001b[0m\u001b[0m\n\u001b[0m",
      "\u001b[1;31mError\u001b[0m: Odd-length string"
     ]
    }
   ],
   "source": [
    "import binascii\n",
    "binascii.unhexlify(b'128')"
   ]
  },
  {
   "cell_type": "markdown",
   "id": "da0c1ba3",
   "metadata": {},
   "source": [
    "# Byte Analysis"
   ]
  },
  {
   "cell_type": "code",
   "execution_count": 14,
   "id": "15eec554",
   "metadata": {},
   "outputs": [
    {
     "data": {
      "text/plain": [
       "b'\\x0f\\x11\\x10\\x03\\xb0\\x01\\x00\\xd5\\xf0'"
      ]
     },
     "execution_count": 14,
     "metadata": {},
     "output_type": "execute_result"
    }
   ],
   "source": [
    "###testing \"wizard\" sequence\n",
    "\n",
    "#string='ÿ°Øð'\n",
    "#a=string.encode()\n",
    "#ser.write(b\"\\x1b\\x00\\x20\\x3a\\x8d\\x57\\x89\\xc5\\xff\\xff\\x00\\x00\\x00\\x00\\x09\\x00\\x01\\x01\\x00\\x01\\x00\\x81\\x03\\x0d\\x00\\x00\\x00\\x01\\x60\\x0f\\x11\\x10\\x05\\x80\\xa4\\x02\\x00\\xf9\\x45\\xf0\")\n",
    "ser.write(b\"\\x0f\\x10\\xff\\x05\\xb0\\x01\\x02\\x00\\x11\\xd8\\xf0\")\n",
    "time.sleep(0.2)\n",
    "ser.read_all()\n"
   ]
  },
  {
   "cell_type": "code",
   "execution_count": 19,
   "id": "738bae64",
   "metadata": {},
   "outputs": [
    {
     "name": "stdout",
     "output_type": "stream",
     "text": [
      "\n",
      "LDEna - Laser driver enable:\n",
      "byte (bin) = 0b00001111\n",
      "byte (bin) = 0b00010001\n",
      "byte (bin) = 0b00010001\n",
      "byte (bin) = 0b00000011\n",
      "byte (bin) = 0b01000000\n",
      "byte (bin) = 0b00010101\n",
      "byte (bin) = 0b00000000\n",
      "byte (bin) = 0b01111010\n",
      "byte (bin) = 0b11110000\n"
     ]
    }
   ],
   "source": [
    "# LDEna - Laser driver enable\n",
    "print(\"\\nLDEna - Laser driver enable:\")\n",
    "b=b\"\\x0F\\x11\\xFF\\x03\\x40\\x15\\x00\\x68\\xF0\"\n",
    "#b=b\"\\x0F\\x11\\xFF\\x03\\x40\\x16\\x00\\x69\\xF0\"\n",
    "#this is the byte architecture\n",
    "#Start of frame, Source Address, Destination Address, Length of data,[...Data...],Checksum, End of frame\n",
    "#Data: Alarm-> CLDD temp. fatal threshold, System Register-> Laser Driver enable, No Op\n",
    "ser.write(b)\n",
    "\n",
    "time.sleep(0.5) # Wait 500 ms\n",
    "\n",
    "i = 0\n",
    "while(i < 9):\n",
    "    i = i + 1\n",
    "    byte = ser.read(1) # Read data byte\n",
    "    print(\"byte (bin) = 0b\" + \"{0:08b}\".format(ord(byte)))\n",
    "\n",
    "time.sleep(3.000) # Wait 3 s"
   ]
  },
  {
   "cell_type": "code",
   "execution_count": 18,
   "id": "c415ab6c",
   "metadata": {},
   "outputs": [
    {
     "name": "stdout",
     "output_type": "stream",
     "text": [
      "\n",
      "DevType - Device type:\n"
     ]
    },
    {
     "data": {
      "text/plain": [
       "b\"\\x0f\\x11\\x11\\x0f\\x80\\x07\\x0cLASER DRIVER'\\xf0\""
      ]
     },
     "execution_count": 18,
     "metadata": {},
     "output_type": "execute_result"
    }
   ],
   "source": [
    "# DevType - Device type\n",
    "print(\"\\nDevType - Device type:\")\n",
    "b=b\"\\x0F\\x11\\xFF\\x03\\x80\\x07\\x00\\x9A\\xF0\"\n",
    "ser.write(b)\n",
    "\n",
    "time.sleep(0.500) # Wait 500 ms\n",
    "\n",
    "ser.read_all()\n",
    "#i = 0\n",
    "#while(i < 21):\n",
    "   # i = i + 1\n",
    "   # byte = ser.read(1) # Read data byte\n",
    "   # print(\"byte (bin) = 0b\" + \"{0:08b}\".format(ord(byte)))"
   ]
  },
  {
   "cell_type": "code",
   "execution_count": 9,
   "id": "348d47d9",
   "metadata": {},
   "outputs": [
    {
     "name": "stdout",
     "output_type": "stream",
     "text": [
      "\n",
      "PLIPSet - Configures the laser diode current/power (write):\n",
      "b'\\x0f\\x11\\x11\\x03\\xa0r\\x007\\xf0'\n"
     ]
    }
   ],
   "source": [
    "# PLIPSet - Configures the laser diode current/power (write)\n",
    "print(\"\\nPLIPSet - Configures the laser diode current/power (write):\")\n",
    "#b=b\"\\x0f\\x10\\x11\\x05\\xb0\\x72\\x02\\x00\\xfb\\x45\\xf0\"\n",
    "def string_to_byte(x):\n",
    "    if x<=197:\n",
    "        h1=hex(x)[2:]\n",
    "        h2=hex(145-(100-x))[2:]\n",
    "        stringo=\"0F11FF07A0720400\" + h1 + \"0000\" + h2 + 'F0'\n",
    "        return bytes.fromhex(stringo)\n",
    "    else:\n",
    "        h1=hex(x)[2:]\n",
    "        h2=hex(69-(251-x))[2:]\n",
    "        stringo=\"0F101105B0720200\" + h1 + h2 + 'F0'\n",
    "        return bytes.fromhex(stringo)\n",
    "    \n",
    "#b=b\"\\x0F\\x11\\xFF\\x07\\xA0\\x72\\x04\\x00\\x32\\x00\\x00\\x5F\\xF0\" #0x64=100\n",
    "\n",
    "b=string_to_byte(50)\n",
    "ser.write(b)\n",
    "#this is the byte architecture\n",
    "#Start of frame, Source Address, Destination Address, Length of data,[...Data...],Checksum, End of frame\n",
    "#Data: Monitorization->CLDD temp.,Current/Power config, create lengthed buffer, buffer...\n",
    "time.sleep(0.500) # Wait 500 ms\n",
    "\n",
    "print(ser.read_all())\n",
    "\n",
    "#i = 0\n",
    "#while(i < 9):\n",
    " #   i = i + 1\n",
    "  #  byte = ser.read(1) # Read data byte\n",
    "   # print(\"byte (bin) = 0b\" + \"{0:08b}\".format(ord(byte)))"
   ]
  },
  {
   "cell_type": "code",
   "execution_count": 8,
   "id": "d4c6518e",
   "metadata": {},
   "outputs": [
    {
     "name": "stdout",
     "output_type": "stream",
     "text": [
      "\n",
      "PLIPSet - Configures the laser diode current/power (read):\n",
      "b'\\x0f\\x11\\x11\\x03D\\x13\\x00|\\xf0\\x0f\\x11\\x11\\x03@\\x14\\x00y\\xf0\\x0f\\x11\\x11\\x05\\x80\\xa1\\x02\\x00\\x00J\\xf0'\n",
      "0\n"
     ]
    }
   ],
   "source": [
    "# PLIPSet - Configures the laser diode current/power (read)\n",
    "print(\"\\nPLIPSet - Configures the laser diode current/power (read):\")\n",
    "b=b\"\\x0F\\x11\\xFF\\x03\\x80\\xA1\\x00\\x34\\xF0\" #current\n",
    "#data: laser output power, config diode current/power, No op\n",
    "ser.write(b)\n",
    "\n",
    "time.sleep(0.500) # Wait 500 ms\n",
    "\n",
    "a=ser.read_all()\n",
    "print(a)\n",
    "print(a[-3])\n",
    "#i = 0\n",
    "#while(i < 11):\n",
    " #   i = i + 1\n",
    "  #  byte = ser.read(1) # Read data byte\n",
    "   # if (i==9 or i==10):\n",
    "    #    print(int(byte[1:], base=16),byte)"
   ]
  },
  {
   "cell_type": "code",
   "execution_count": 17,
   "id": "9c6b2358",
   "metadata": {},
   "outputs": [
    {
     "name": "stdout",
     "output_type": "stream",
     "text": [
      "\n",
      "TECTSet - Configures the TEC temperature (write):\n",
      "fa 47\n",
      "0F101105B0750200fa47F0\n"
     ]
    },
    {
     "data": {
      "text/plain": [
       "b'\\x0f\\x11\\x10\\x03\\xb0u\\x00I\\xf0'"
      ]
     },
     "execution_count": 17,
     "metadata": {},
     "output_type": "execute_result"
    }
   ],
   "source": [
    "# TECTSet - Configures the TEC temperature (write)\n",
    "print(\"\\nTECTSet - Configures the TEC temperature (write):\")\n",
    "#b=b\"\\x0F\\x11\\xFF\\x06\\xA0\\x75\\x03\\x00\\xC8\\x00\\xF6\\xF0\"\n",
    "#b=b\"\\x0f\\x10\\x11\\x05\\xb0\\x75\\x02\\x00\\xfb\\x48\\xf0\"\n",
    "\n",
    "def string_to_byte1(x):\n",
    "    h1=hex(x)[2:]\n",
    "    h2=hex(72-(251-x))[2:]\n",
    "    print(h1,h2)\n",
    "    stringo=\"0F101105B0750200\" + h1 + h2 + 'F0'\n",
    "    print(stringo)\n",
    "    return bytes.fromhex(stringo)\n",
    "\n",
    "#C8=200\n",
    "b=string_to_byte1(250) #ºC*10\n",
    "ser.write(b)\n",
    "time.sleep(0.500) # Wait 500 ms\n",
    "\n",
    "ser.read_all()\n",
    "#i = 0\n",
    "#while(i < 9):\n",
    "#    i = i + 1\n",
    " #   byte = ser.read(1) # Read data byte\n",
    "  #  print(\"byte (bin) = 0b\" + \"{0:08b}\".format(ord(byte)))"
   ]
  },
  {
   "cell_type": "code",
   "execution_count": 26,
   "id": "2f92c354",
   "metadata": {},
   "outputs": [
    {
     "name": "stdout",
     "output_type": "stream",
     "text": [
      "\n",
      "TECTSet - Configures the TEC temperature (read):\n"
     ]
    },
    {
     "ename": "NameError",
     "evalue": "name 'ser' is not defined",
     "output_type": "error",
     "traceback": [
      "\u001b[1;31m---------------------------------------------------------------------------\u001b[0m",
      "\u001b[1;31mNameError\u001b[0m                                 Traceback (most recent call last)",
      "\u001b[1;32m~\\AppData\\Local\\Temp/ipykernel_3888/745292297.py\u001b[0m in \u001b[0;36m<module>\u001b[1;34m\u001b[0m\n\u001b[0;32m      2\u001b[0m \u001b[0mprint\u001b[0m\u001b[1;33m(\u001b[0m\u001b[1;34m\"\\nTECTSet - Configures the TEC temperature (read):\"\u001b[0m\u001b[1;33m)\u001b[0m\u001b[1;33m\u001b[0m\u001b[1;33m\u001b[0m\u001b[0m\n\u001b[0;32m      3\u001b[0m \u001b[0mb\u001b[0m\u001b[1;33m=\u001b[0m\u001b[1;34mb\"\\x0F\\x11\\xFF\\x03\\x80\\x75\\x00\\x08\\xF0\"\u001b[0m\u001b[1;33m\u001b[0m\u001b[1;33m\u001b[0m\u001b[0m\n\u001b[1;32m----> 4\u001b[1;33m \u001b[0mser\u001b[0m\u001b[1;33m.\u001b[0m\u001b[0mwrite\u001b[0m\u001b[1;33m(\u001b[0m\u001b[0mb\u001b[0m\u001b[1;33m)\u001b[0m\u001b[1;33m\u001b[0m\u001b[1;33m\u001b[0m\u001b[0m\n\u001b[0m\u001b[0;32m      5\u001b[0m \u001b[1;33m\u001b[0m\u001b[0m\n\u001b[0;32m      6\u001b[0m \u001b[0mtime\u001b[0m\u001b[1;33m.\u001b[0m\u001b[0msleep\u001b[0m\u001b[1;33m(\u001b[0m\u001b[1;36m0.500\u001b[0m\u001b[1;33m)\u001b[0m \u001b[1;31m# Wait 500 ms\u001b[0m\u001b[1;33m\u001b[0m\u001b[1;33m\u001b[0m\u001b[0m\n",
      "\u001b[1;31mNameError\u001b[0m: name 'ser' is not defined"
     ]
    }
   ],
   "source": [
    "# TECTSet - Configures the TEC temperature (read)\n",
    "print(\"\\nTECTSet - Configures the TEC temperature (read):\")\n",
    "b=b\"\\x0F\\x11\\xFF\\x03\\x80\\x75\\x00\\x08\\xF0\"\n",
    "ser.write(b)\n",
    "\n",
    "time.sleep(0.500) # Wait 500 ms\n",
    "\n",
    "a=ser.read_all()\n",
    "print(a[-3])\n",
    "print(a[-2])\n",
    "\n",
    "#i = 0\n",
    "#while(i < 11):\n",
    " #   i = i + 1\n",
    "  #  byte = ser.read(1) # Read data byte\n",
    "     #print(\"byte (bin) = 0b\" + \"{0:08b}\".format(ord(byte)))\n",
    "b=b\"\\x0F\\x11\\xFF\\x03\\x80\\xA4\\x00\\x37\\xF0\" #this is the real controller\n",
    "ser.write(b)\n",
    "\n",
    "time.sleep(0.08) # Wait 500 ms\n",
    "\n",
    "a=ser.read_all()\n",
    "print(a[-3])\n",
    "print(a[-2])"
   ]
  },
  {
   "cell_type": "code",
   "execution_count": 32,
   "id": "b9cde38e",
   "metadata": {},
   "outputs": [
    {
     "name": "stdout",
     "output_type": "stream",
     "text": [
      "\n",
      "LDDis - Laser driver disable:\n",
      "byte (bin) = 0b00001111\n",
      "byte (bin) = 0b00010001\n",
      "byte (bin) = 0b00010001\n",
      "byte (bin) = 0b00000011\n",
      "byte (bin) = 0b01000000\n",
      "byte (bin) = 0b00010110\n",
      "byte (bin) = 0b00000000\n",
      "byte (bin) = 0b01111011\n",
      "byte (bin) = 0b11110000\n"
     ]
    }
   ],
   "source": [
    "# LDDis - Laser driver disable\n",
    "print(\"\\nLDDis - Laser driver disable:\")\n",
    "b=b\"\\x0F\\x11\\xFF\\x03\\x40\\x16\\x00\\x69\\xF0\"\n",
    "#b=b\"\\x0F\\x11\\xFF\\x03\\x40\\x15\\x00\\x68\\xF0\"\n",
    "ser.write(b)\n",
    "\n",
    "time.sleep(0.500) # Wait 500 ms\n",
    "\n",
    "#print(ser.read_all())\n",
    "i = 0\n",
    "while(i < 9):\n",
    "    i = i + 1\n",
    "    byte = ser.read(1) # Read data byte\n",
    "    print(\"byte (bin) = 0b\" + \"{0:08b}\".format(ord(byte)))"
   ]
  },
  {
   "cell_type": "code",
   "execution_count": 31,
   "id": "694f2c1b",
   "metadata": {},
   "outputs": [
    {
     "name": "stdout",
     "output_type": "stream",
     "text": [
      "252\n",
      "75\n",
      "-4824.21875\n"
     ]
    }
   ],
   "source": [
    "#restart\n",
    "b=b\"\\x0F\\x11\\xFF\\x03\\x80\\xA5\\x00\\x38\\xF0\"\n",
    "ser.write(b)\n",
    "time.sleep(0.05)\n",
    "a=ser.read_all()\n",
    "print(a[-3])\n",
    "print(a[-2])\n",
    "print(7600*(a[-3]*(2.5/2**10)-1.25))"
   ]
  },
  {
   "cell_type": "code",
   "execution_count": 3,
   "id": "63a051e9",
   "metadata": {},
   "outputs": [
    {
     "name": "stdout",
     "output_type": "stream",
     "text": [
      "b'\\x0f\\x11\\x10\\x05\\x80\\x10\\x02\\x00\\x07\\xbf\\xf0'\n",
      "7\n",
      "191\n",
      "Hibernating\n"
     ]
    }
   ],
   "source": [
    "#b=b\"\\x0F\\x11\\xFF\\x06\\xA0\\x75\\x03\\x00\\xC8\\x00\\xF6\\xF0\"\n",
    "#b=b\"\\x0f\\x10\\x11\\x05\\xa0\\x25\\x02\\x00\\x00\\xed\\xf0\"\n",
    "#b=b\"\\x0f\\x10\\x11\\x05\\xb0\\x75\\x02\\x00\\xfa\\x47\\xf0\"\n",
    "#b=b\"\\x0f\\x10\\x11\\x05\\x80\\x10\\x02\\x00\\x00\\xb8\\xf0\"\n",
    "#b=b\"\\x0f\\x10\\x11\\x05\\xb0\\x72\\x02\\x00\\xfb\\x45\\xf0\"\n",
    "b=b\"\\x0f\\x10\\x11\\x05\\x80\\x10\\x02\\x00\\x00\\xb8\\xf0\"\n",
    "ser.write(b)\n",
    "time.sleep(0.2)\n",
    "status=''\n",
    "a=ser.read_all()\n",
    "print(a)\n",
    "print(a[-3])\n",
    "print(a[-2])\n",
    "if a[-3]==36:\n",
    "    status='Disabled'\n",
    "if a[-3]==7:\n",
    "    status='Hibernating'\n",
    "if a[-3]==5:\n",
    "    status='Enabled'\n",
    "if a[-3]==2:\n",
    "    status='Ready'\n",
    "\n",
    "print(status)"
   ]
  },
  {
   "cell_type": "code",
   "execution_count": 5,
   "id": "b744a30f",
   "metadata": {},
   "outputs": [
    {
     "name": "stdout",
     "output_type": "stream",
     "text": [
      "\n",
      "Serial port closed\n"
     ]
    }
   ],
   "source": [
    "# Serial port\n",
    "ser.close() # Close serial port\n",
    "print(\"\\nSerial port closed\")"
   ]
  },
  {
   "cell_type": "markdown",
   "id": "924f1b6e",
   "metadata": {},
   "source": [
    "# Classe"
   ]
  },
  {
   "cell_type": "code",
   "execution_count": 1,
   "id": "13d44886",
   "metadata": {},
   "outputs": [],
   "source": [
    "import serial\n",
    "import time\n",
    "import os\n",
    "\n",
    "stream = os.popen('powershell -command \"[System.IO.Ports.SerialPort]::getportnames()\"')\n",
    "output = stream.read()[:-1] #return output of used usb, if no others are connected\n",
    "output='COM4'\n",
    "\n",
    "class mwLaser():\n",
    "    \n",
    "    def __init__(self):\n",
    "        super().__init__()\n",
    "        \n",
    "        self.port = serial.Serial(output) # Open serial port which is connected to the device\n",
    "        self.port.baudrate = 57600\n",
    "        self.current = 0\n",
    "        self.power = 0\n",
    "        self.TEC_temperature = 0\n",
    "        self.TEC_current=0\n",
    "        self.status=''\n",
    "        self.laser_status()\n",
    "        \n",
    "    def laser_status(self):\n",
    "        time.sleep(0.3)\n",
    "        b=b\"\\x0f\\x10\\x11\\x05\\x80\\x10\\x02\\x00\\x00\\xb8\\xf0\"\n",
    "        self.port.write(b)\n",
    "        time.sleep(0.09)\n",
    "        statuse=''\n",
    "        a=self.port.read_all()\n",
    "        print(a)\n",
    "        dig= a[-3] if len(str(a[-2]))>len(str(a[-3])) else a[-2]\n",
    "        if dig in [36,66,28]:\n",
    "            statuse='Disabled'\n",
    "        if dig in [7,71]:\n",
    "            statuse='Hibernating'\n",
    "        if dig in [5,53,37,117,45]:\n",
    "            statuse='Active'\n",
    "        if dig in [2]:\n",
    "            statuse='Ready'\n",
    "        if dig in [67,69,29]:\n",
    "            statuse='Configuring'\n",
    "        \n",
    "        self.status=statuse\n",
    "        \n",
    "    def update_current(self):\n",
    "        b=b\"\\x0F\\x11\\xFF\\x03\\x80\\xA1\\x00\\x34\\xF0\"\n",
    "        self.port.write(b)\n",
    "        time.sleep(0.15)\n",
    "        self.current=self.port.read_all()[-3]\n",
    "        \n",
    "    def update_power(self):\n",
    "        b=b\"\\x0F\\x11\\xFF\\x03\\x80\\xA2\\x00\\x35\\xF0\"\n",
    "        self.port.write(b)\n",
    "        time.sleep(0.15)\n",
    "        self.power=self.port.read_all()[-3]\n",
    "    \n",
    "    def update_TEC_temperature(self):\n",
    "        b=b\"\\x0F\\x11\\xFF\\x03\\x80\\xA4\\x00\\x37\\xF0\"\n",
    "        self.port.write(b)\n",
    "        time.sleep(0.15)\n",
    "        self.TEC_temperature=self.port.read_all()[-3]/10\n",
    "    \n",
    "    def update_TEC_current(self):\n",
    "        b=b\"\\x0F\\x11\\xFF\\x03\\x80\\xA5\\x00\\x38\\xF0\"\n",
    "        self.port.write(b)\n",
    "        time.sleep(0.15)\n",
    "        self.TEC_current=7600*(self.port.read_all()[-3]*(2.5/2**10)-1.25)/100\n",
    "    \n",
    "    def set_TEC_temperature(self,x):\n",
    "        h1=hex(x)[2:]\n",
    "        h2=hex(246-(200-x))[2:]\n",
    "        stringo=\"0F101105B0750200\" + h1 + h2 + 'F0'\n",
    "        b=bytes.fromhex(stringo)\n",
    "        self.port.write(b)\n",
    "        time.sleep(0.09)\n",
    "        \n",
    "    def set_current(self,x):\n",
    "        if x<=197:\n",
    "            h1=hex(x)[2:]\n",
    "            h2=hex(145-(100-x))[2:]\n",
    "            stringo=\"0F11FF07A0720400\" + h1 + \"0000\" + h2 + 'F0'\n",
    "            b=bytes.fromhex(stringo)\n",
    "            self.port.write(b)\n",
    "            time.sleep(0.09)\n",
    "        else:\n",
    "            h1=hex(x)[2:]\n",
    "            h2=hex(69-(251-x))[2:]\n",
    "            stringo=\"0F101105B0720200\" + h1 + h2 + 'F0'\n",
    "            b=bytes.fromhex(stringo)\n",
    "            self.port.write(b)\n",
    "            time.sleep(0.09)\n",
    "    \n",
    "    def return_data(self):\n",
    "        self.update_current()\n",
    "        self.update_power()\n",
    "        self.update_TEC_temperature()\n",
    "        self.update_TEC_current()\n",
    "        self.laser_status()\n",
    "        return [self.current,self.power,self.TEC_temperature,self.TEC_current,self.status]\n",
    "    \n",
    "    def enable(self):\n",
    "        b=b\"\\x0F\\x11\\xFF\\x03\\x40\\x15\\x00\\x68\\xF0\"\n",
    "        self.port.write(b)\n",
    "        \n",
    "        \n",
    "    def disable(self):\n",
    "        b=b\"\\x0F\\x11\\xFF\\x03\\x40\\x16\\x00\\x69\\xF0\"\n",
    "        self.port.write(b)\n",
    "    \n",
    "    def reset(self):\n",
    "        time.sleep(0.09)\n",
    "        b=b\"\\x0F\\x11\\xFF\\x03\\x40\\x14\\x00\\x67\\xF0\"\n",
    "        self.port.write(b)\n",
    "        \n",
    "    def hibernate(self):\n",
    "        self.disable()\n",
    "        time.sleep(0.09)\n",
    "        b=b\"\\x0F\\x11\\xFF\\x03\\x40\\x13\\x00\\x66\\xF0\"\n",
    "        self.port.write(b)\n",
    "    \n",
    "    def close_port(self):\n",
    "        self.port.close()\n",
    "        print(\"\\nSerial port closed\")"
   ]
  },
  {
   "cell_type": "code",
   "execution_count": 2,
   "id": "1ec59026",
   "metadata": {},
   "outputs": [
    {
     "name": "stdout",
     "output_type": "stream",
     "text": [
      "b'\\x0f\\x11\\x10\\x05\\x80\\x10\\x02\\x005\\xed\\xf0'\n",
      "b'\\x0f\\x11\\x10\\x05\\x80\\x10\\x02\\x005\\xed\\xf0'\n",
      "b'\\x0f\\x11\\x10\\x05\\x80\\x10\\x02\\x005\\xed\\xf0'\n"
     ]
    },
    {
     "ename": "IndexError",
     "evalue": "index out of range",
     "output_type": "error",
     "traceback": [
      "\u001b[1;31m---------------------------------------------------------------------------\u001b[0m",
      "\u001b[1;31mIndexError\u001b[0m                                Traceback (most recent call last)",
      "\u001b[1;32m~\\AppData\\Local\\Temp/ipykernel_1612/1176307108.py\u001b[0m in \u001b[0;36mupdate\u001b[1;34m(self)\u001b[0m\n\u001b[0;32m    249\u001b[0m     \u001b[1;32mdef\u001b[0m \u001b[0mupdate\u001b[0m\u001b[1;33m(\u001b[0m\u001b[0mself\u001b[0m\u001b[1;33m)\u001b[0m\u001b[1;33m:\u001b[0m\u001b[1;33m\u001b[0m\u001b[1;33m\u001b[0m\u001b[0m\n\u001b[0;32m    250\u001b[0m         \u001b[1;32mwhile\u001b[0m \u001b[0mself\u001b[0m\u001b[1;33m.\u001b[0m\u001b[0mflag\u001b[0m\u001b[1;33m:\u001b[0m\u001b[1;33m\u001b[0m\u001b[1;33m\u001b[0m\u001b[0m\n\u001b[1;32m--> 251\u001b[1;33m             \u001b[0mdata\u001b[0m\u001b[1;33m=\u001b[0m\u001b[0mself\u001b[0m\u001b[1;33m.\u001b[0m\u001b[0mlaser\u001b[0m\u001b[1;33m.\u001b[0m\u001b[0mreturn_data\u001b[0m\u001b[1;33m(\u001b[0m\u001b[1;33m)\u001b[0m\u001b[1;33m\u001b[0m\u001b[1;33m\u001b[0m\u001b[0m\n\u001b[0m\u001b[0;32m    252\u001b[0m             \u001b[0mself\u001b[0m\u001b[1;33m.\u001b[0m\u001b[0mdata\u001b[0m\u001b[1;33m.\u001b[0m\u001b[0memit\u001b[0m\u001b[1;33m(\u001b[0m\u001b[0mdata\u001b[0m\u001b[1;33m)\u001b[0m\u001b[1;33m\u001b[0m\u001b[1;33m\u001b[0m\u001b[0m\n\u001b[0;32m    253\u001b[0m         \u001b[0mself\u001b[0m\u001b[1;33m.\u001b[0m\u001b[0mfinished\u001b[0m\u001b[1;33m.\u001b[0m\u001b[0memit\u001b[0m\u001b[1;33m(\u001b[0m\u001b[1;33m)\u001b[0m\u001b[1;33m\u001b[0m\u001b[1;33m\u001b[0m\u001b[0m\n",
      "\u001b[1;32m~\\AppData\\Local\\Temp/ipykernel_1612/1823830749.py\u001b[0m in \u001b[0;36mreturn_data\u001b[1;34m(self)\u001b[0m\n\u001b[0;32m     93\u001b[0m \u001b[1;33m\u001b[0m\u001b[0m\n\u001b[0;32m     94\u001b[0m     \u001b[1;32mdef\u001b[0m \u001b[0mreturn_data\u001b[0m\u001b[1;33m(\u001b[0m\u001b[0mself\u001b[0m\u001b[1;33m)\u001b[0m\u001b[1;33m:\u001b[0m\u001b[1;33m\u001b[0m\u001b[1;33m\u001b[0m\u001b[0m\n\u001b[1;32m---> 95\u001b[1;33m         \u001b[0mself\u001b[0m\u001b[1;33m.\u001b[0m\u001b[0mupdate_current\u001b[0m\u001b[1;33m(\u001b[0m\u001b[1;33m)\u001b[0m\u001b[1;33m\u001b[0m\u001b[1;33m\u001b[0m\u001b[0m\n\u001b[0m\u001b[0;32m     96\u001b[0m         \u001b[0mself\u001b[0m\u001b[1;33m.\u001b[0m\u001b[0mupdate_power\u001b[0m\u001b[1;33m(\u001b[0m\u001b[1;33m)\u001b[0m\u001b[1;33m\u001b[0m\u001b[1;33m\u001b[0m\u001b[0m\n\u001b[0;32m     97\u001b[0m         \u001b[0mself\u001b[0m\u001b[1;33m.\u001b[0m\u001b[0mupdate_TEC_temperature\u001b[0m\u001b[1;33m(\u001b[0m\u001b[1;33m)\u001b[0m\u001b[1;33m\u001b[0m\u001b[1;33m\u001b[0m\u001b[0m\n",
      "\u001b[1;32m~\\AppData\\Local\\Temp/ipykernel_1612/1823830749.py\u001b[0m in \u001b[0;36mupdate_current\u001b[1;34m(self)\u001b[0m\n\u001b[0;32m     48\u001b[0m         \u001b[0mself\u001b[0m\u001b[1;33m.\u001b[0m\u001b[0mport\u001b[0m\u001b[1;33m.\u001b[0m\u001b[0mwrite\u001b[0m\u001b[1;33m(\u001b[0m\u001b[0mb\u001b[0m\u001b[1;33m)\u001b[0m\u001b[1;33m\u001b[0m\u001b[1;33m\u001b[0m\u001b[0m\n\u001b[0;32m     49\u001b[0m         \u001b[0mtime\u001b[0m\u001b[1;33m.\u001b[0m\u001b[0msleep\u001b[0m\u001b[1;33m(\u001b[0m\u001b[1;36m0.09\u001b[0m\u001b[1;33m)\u001b[0m\u001b[1;33m\u001b[0m\u001b[1;33m\u001b[0m\u001b[0m\n\u001b[1;32m---> 50\u001b[1;33m         \u001b[0mself\u001b[0m\u001b[1;33m.\u001b[0m\u001b[0mcurrent\u001b[0m\u001b[1;33m=\u001b[0m\u001b[0mself\u001b[0m\u001b[1;33m.\u001b[0m\u001b[0mport\u001b[0m\u001b[1;33m.\u001b[0m\u001b[0mread_all\u001b[0m\u001b[1;33m(\u001b[0m\u001b[1;33m)\u001b[0m\u001b[1;33m[\u001b[0m\u001b[1;33m-\u001b[0m\u001b[1;36m3\u001b[0m\u001b[1;33m]\u001b[0m\u001b[1;33m\u001b[0m\u001b[1;33m\u001b[0m\u001b[0m\n\u001b[0m\u001b[0;32m     51\u001b[0m \u001b[1;33m\u001b[0m\u001b[0m\n\u001b[0;32m     52\u001b[0m     \u001b[1;32mdef\u001b[0m \u001b[0mupdate_power\u001b[0m\u001b[1;33m(\u001b[0m\u001b[0mself\u001b[0m\u001b[1;33m)\u001b[0m\u001b[1;33m:\u001b[0m\u001b[1;33m\u001b[0m\u001b[1;33m\u001b[0m\u001b[0m\n",
      "\u001b[1;31mIndexError\u001b[0m: index out of range"
     ]
    },
    {
     "name": "stdout",
     "output_type": "stream",
     "text": [
      "\n",
      "Serial port closed\n"
     ]
    }
   ],
   "source": [
    "from PyQt5.QtCore import *\n",
    "from PyQt5.QtWidgets import *\n",
    "from PyQt5.QtGui import *\n",
    "#import breeze_resources\n",
    "import time\n",
    "\n",
    "import sys\n",
    "\n",
    "class laser_widget(QWidget):\n",
    "    \"\"\"\n",
    "    This is my widget.\n",
    "    \"\"\"\n",
    "    def __init__(self, parent=None):\n",
    "        \n",
    "        super().__init__()\n",
    "        \n",
    "        self.global_layout = QGridLayout(self)\n",
    "        \n",
    "        self.laser=mwLaser() ##laser driver\n",
    "        self.status=self.laser.status\n",
    "        #######################################################laser box\n",
    "        container_laser=QGroupBox(\"Laser\")\n",
    "        vbox_laser= QVBoxLayout(container_laser)\n",
    "        \n",
    "        containersimple=QGroupBox()\n",
    "        hboxsimple=QHBoxLayout(containersimple)\n",
    "        self.current_display=QLCDNumber(self)\n",
    "        self.current_display.setGeometry(QRect())\n",
    "        hboxsimple.addWidget(self.current_display)\n",
    "        self.labelmAl=QLabel(self)\n",
    "        self.labelmAl.setText('mA')\n",
    "        hboxsimple.addWidget(self.labelmAl)\n",
    "        vbox_laser.addWidget(containersimple)\n",
    "        \n",
    "        containersimple1=QGroupBox()\n",
    "        hboxsimple1=QHBoxLayout(containersimple1)\n",
    "        self.power_display=QLCDNumber(self)\n",
    "        self.power_display.setGeometry(QRect())\n",
    "        hboxsimple1.addWidget(self.power_display)\n",
    "        self.labelmW=QLabel(self)\n",
    "        self.labelmW.setText('mW')\n",
    "        hboxsimple1.addWidget(self.labelmW)\n",
    "        hboxsimple1.addWidget(containersimple1)\n",
    "        vbox_laser.addWidget(containersimple1)\n",
    "        \n",
    "        ################################################TEC box\n",
    "        container_TEC=QGroupBox(\"TEC\")\n",
    "        vbox_TEC= QVBoxLayout(container_TEC)\n",
    "        containersimple2=QGroupBox()\n",
    "        \n",
    "        hboxsimple2=QHBoxLayout(containersimple2)\n",
    "        self.temp_display=QLCDNumber(self)\n",
    "        self.temp_display.setGeometry(QRect())\n",
    "        hboxsimple2.addWidget(self.temp_display)\n",
    "        self.labelC=QLabel(self)\n",
    "        self.labelC.setText('ºC')\n",
    "        hboxsimple2.addWidget(self.labelC)\n",
    "        vbox_TEC.addWidget(containersimple2)\n",
    "        \n",
    "        containersimple3=QGroupBox()\n",
    "        hboxsimple3=QHBoxLayout(containersimple3)\n",
    "        self.currTEC_display=QLCDNumber(self)\n",
    "        self.currTEC_display.setGeometry(QRect())\n",
    "        hboxsimple3.addWidget(self.currTEC_display)\n",
    "        self.labelmATEC=QLabel(self)\n",
    "        self.labelmATEC.setText('mA')\n",
    "        hboxsimple3.addWidget(self.labelmATEC)\n",
    "        vbox_TEC.addWidget(containersimple3)\n",
    "        \n",
    "        ###############################################current control\n",
    "        container_input=QGroupBox(\"Laser Setpoint\")\n",
    "        hbox_set= QHBoxLayout(container_input)\n",
    "        \n",
    "        self.labelcur=QLabel(self)\n",
    "        self.labelcur.setText('Current setpoint:')\n",
    "        hbox_set.addWidget(self.labelcur)\n",
    "        \n",
    "        self.currentv=QLineEdit(self)\n",
    "        self.currentv.setText('50')\n",
    "        self.currentv.returnPressed.connect(self.current_changed)\n",
    "        hbox_set.addWidget(self.currentv)\n",
    "        \n",
    "        self.labelmA=QLabel(self)\n",
    "        self.labelmA.setText('mA')\n",
    "        hbox_set.addWidget(self.labelmA)\n",
    "        \n",
    "        ##################################################temp control\n",
    "        container_inputt=QGroupBox(\"TEC Setpoint\")\n",
    "        hbox_set1= QHBoxLayout(container_inputt)\n",
    "        \n",
    "        self.labeltemps=QLabel(self)\n",
    "        self.labeltemps.setText('Temperature setpoint:')\n",
    "        hbox_set1.addWidget(self.labeltemps)\n",
    "        \n",
    "        self.temperaturev=QLineEdit(self)\n",
    "        self.temperaturev.setText('25')\n",
    "        self.temperaturev.returnPressed.connect(self.temp_changed)\n",
    "        hbox_set1.addWidget(self.temperaturev)\n",
    "        \n",
    "        self.labelC=QLabel(self)\n",
    "        self.labelC.setText('ºC')\n",
    "        hbox_set1.addWidget(self.labelC)\n",
    "        \n",
    "        ########################################################buttons\n",
    "        container_button=QGroupBox()\n",
    "        hbox_set2= QHBoxLayout(container_button)\n",
    "        \n",
    "        self.turn_on_button=QToolButton(self)\n",
    "        self.turn_on_button.setText('Start Laser')\n",
    "        self.turn_on_button.clicked.connect(self.laser_clicked)\n",
    "        self.turn_on_button.clicked.connect(self.button_state)\n",
    "        \n",
    "        container_button2=QGroupBox()\n",
    "        hbox_set3= QHBoxLayout(container_button2)\n",
    "        \n",
    "        self.shutdown_button=QToolButton(self)\n",
    "        self.shutdown_button.setText('Shutdown')\n",
    "        self.shutdown_button.clicked.connect(self.shutdown)\n",
    "        self.shutdown_button.clicked.connect(self.button_state)\n",
    "        \n",
    "        hbox_set2.addWidget(self.turn_on_button)\n",
    "        hbox_set3.addWidget(self.shutdown_button)\n",
    "\n",
    "        ######################################################global\n",
    "        \n",
    "        self.global_layout.addWidget(container_laser,0,0)\n",
    "        self.global_layout.addWidget(container_TEC,0,1)\n",
    "        self.global_layout.addWidget(container_input,1,0)\n",
    "        self.global_layout.addWidget(container_inputt,1,1)\n",
    "        self.global_layout.addWidget(container_button,2,1)\n",
    "        self.global_layout.addWidget(container_button2,2,0)\n",
    "        \n",
    "        #self.setFixedWidth(100)\n",
    "        #self.setFixedHeight(200)\n",
    "    ###########################################################functions\n",
    "    #### initial state   \n",
    "        self.thread()\n",
    "        self.button_state()\n",
    "    #### initiate thread and change status\n",
    "    \n",
    "    def thread(self):\n",
    "        self.thread=QThread()\n",
    "        self.worker=Worker(self.laser)\n",
    "        self.worker.moveToThread(self.thread)\n",
    "        self.thread.started.connect(self.worker.update)\n",
    "        self.worker.finished.connect(self.thread.quit)\n",
    "        self.worker.finished.connect(self.worker.deleteLater)\n",
    "        self.thread.finished.connect(self.thread.deleteLater)\n",
    "        self.worker.data.connect(self.update_status)\n",
    "        self.thread.start()\n",
    "    \n",
    "    \n",
    "    #### get status from laser class\n",
    "    def update_status(self,data_retrieved):\n",
    "        self.laser.current = data_retrieved[0]\n",
    "        self.laser.power = data_retrieved[1]\n",
    "        self.laser.TEC_temperature = data_retrieved[2]\n",
    "        self.laser.TEC_curent=data_retrieved[3]\n",
    "        self.laser.status=data_retrieved[4]\n",
    "        self.update_laser_values()\n",
    "    \n",
    "    #### \n",
    "    def update_laser_values(self):\n",
    "        self.current_display.display(self.laser.current)\n",
    "        self.power_display.display(self.laser.power)\n",
    "        self.currTEC_display.display(self.laser.TEC_current)\n",
    "        self.temp_display.display(self.laser.TEC_temperature)\n",
    "        self.status=self.laser.status\n",
    "        self.button_state()\n",
    "        \n",
    "    ##button methods\n",
    "    def button_state(self):\n",
    "        if self.status=='Disabled':\n",
    "            self.turn_on_button.setText('Start Laser')\n",
    "        \n",
    "        elif self.status=='Active':\n",
    "            self.turn_on_button.setText('Disable')\n",
    "\n",
    "        elif self.status=='Hibernating':\n",
    "            self.turn_on_button.setText('Restart')\n",
    "        \n",
    "        elif self.status=='Ready':\n",
    "            self.turn_on_button.setText('Start Laser')\n",
    "    \n",
    "        elif self.status=='Configuring':\n",
    "            self.turn_on_button.setText('Disable')\n",
    "            \n",
    "            \n",
    "    def laser_clicked(self):\n",
    "        if self.status=='Disabled':\n",
    "            self.laser.enable()\n",
    "            time.sleep(1) ## 2 seconds works\n",
    "            \n",
    "        elif self.status=='Active':\n",
    "            self.laser.disable()\n",
    "            time.sleep(1)\n",
    "            \n",
    "        elif self.status=='Hibernating':\n",
    "            self.laser.reset()\n",
    "            time.sleep(1)\n",
    "        \n",
    "        elif self.status=='Ready':\n",
    "            self.laser.enable()\n",
    "            time.sleep(1)\n",
    "    \n",
    "        elif self.status=='Configuring':\n",
    "            self.laser.disable()\n",
    "            time.sleep(1)\n",
    "    \n",
    "    def shutdown(self):\n",
    "        self.laser.hibernate()\n",
    "        time.sleep(1)\n",
    "        \n",
    "    def current_changed(self):\n",
    "        print(self.currentv.text())\n",
    "        self.laser.set_current(int(self.currentv.text()))\n",
    "    \n",
    "    def temp_changed(self):\n",
    "        print(self.temperaturev.text())\n",
    "        self.laser.set_TEC_temperature(int(self.temperaturev.text())*10)\n",
    "        \n",
    "    \n",
    "    ##############################################laser thread\n",
    "        \n",
    "    def temp_alarm(self):\n",
    "        if (float(self.laser.TEC_temperature)<24.9 or (self.laser.TEC_temperature)>25.1):\n",
    "            msg = QMessageBox()\n",
    "            msg.setIcon(QMessageBox.Critical)\n",
    "            msg.setText(\"Error\")\n",
    "            msg.setInformativeText('TEC Temperature is unstable, shutting down the laser')\n",
    "            msg.setWindowTitle(\"Error\")\n",
    "            msg.exec_() \n",
    "    \n",
    "    def closeEvent(self, event):\n",
    "        self.worker.stop()\n",
    "        self.thread.quit()\n",
    "        self.laser.close_port()\n",
    "        event.accept()\n",
    "        \n",
    "class Worker(QObject):\n",
    "    finished= pyqtSignal()\n",
    "    data=pyqtSignal(list)\n",
    "    \n",
    "    def __init__(self,laser):\n",
    "        super(Worker,self).__init__()\n",
    "        self.laser=laser\n",
    "        self.flag=True\n",
    "        \n",
    "    def update(self):\n",
    "        while self.flag:\n",
    "            data=self.laser.return_data()\n",
    "            self.data.emit(data)\n",
    "        self.finished.emit()\n",
    "    \n",
    "    def start(self):\n",
    "        self.flag=True\n",
    "        \n",
    "    def stop(self):\n",
    "        self.flag=False\n",
    "    \n",
    "qapp = QCoreApplication.instance()\n",
    "if qapp is None:\n",
    "    qapp = QApplication(sys.argv)\n",
    "#     file = QFile(\":/dark/stylesheet.qss\")\n",
    "#     file.open(QFile.ReadOnly | QFile.Text)\n",
    "#     stream = QTextStream(file)\n",
    "#     qapp.setStyleSheet(stream.readAll())\n",
    "    \n",
    "if __name__ == \"__main__\": \n",
    "    #start the widget\n",
    "    ui = laser_widget()\n",
    "    #show the widget\n",
    "    ui.show()\n",
    "    #start the events loop\n",
    "    qapp.exec_()"
   ]
  },
  {
   "cell_type": "code",
   "execution_count": null,
   "id": "424a435a",
   "metadata": {},
   "outputs": [],
   "source": []
  }
 ],
 "metadata": {
  "kernelspec": {
   "display_name": "Python 3 (ipykernel)",
   "language": "python",
   "name": "python3"
  },
  "language_info": {
   "codemirror_mode": {
    "name": "ipython",
    "version": 3
   },
   "file_extension": ".py",
   "mimetype": "text/x-python",
   "name": "python",
   "nbconvert_exporter": "python",
   "pygments_lexer": "ipython3",
   "version": "3.8.5"
  }
 },
 "nbformat": 4,
 "nbformat_minor": 5
}
