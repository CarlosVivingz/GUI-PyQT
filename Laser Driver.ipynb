{
 "cells": [
  {
   "cell_type": "code",
   "execution_count": 1,
   "id": "15a008a1",
   "metadata": {},
   "outputs": [],
   "source": [
    "import serial\n",
    "import time\n",
    "import math\n",
    "import subprocess\n",
    "import os"
   ]
  },
  {
   "cell_type": "code",
   "execution_count": 4,
   "id": "8df9f51e",
   "metadata": {},
   "outputs": [
    {
     "name": "stdout",
     "output_type": "stream",
     "text": [
      "\n"
     ]
    },
    {
     "ename": "SerialException",
     "evalue": "could not open port '': FileNotFoundError(2, 'The system cannot find the path specified.', None, 3)",
     "output_type": "error",
     "traceback": [
      "\u001b[1;31m---------------------------------------------------------------------------\u001b[0m",
      "\u001b[1;31mSerialException\u001b[0m                           Traceback (most recent call last)",
      "\u001b[1;32m~\\AppData\\Local\\Temp/ipykernel_10004/443521448.py\u001b[0m in \u001b[0;36m<module>\u001b[1;34m\u001b[0m\n\u001b[0;32m      4\u001b[0m \u001b[0mprint\u001b[0m\u001b[1;33m(\u001b[0m\u001b[0moutput\u001b[0m\u001b[1;33m)\u001b[0m\u001b[1;33m\u001b[0m\u001b[1;33m\u001b[0m\u001b[0m\n\u001b[0;32m      5\u001b[0m \u001b[1;33m\u001b[0m\u001b[0m\n\u001b[1;32m----> 6\u001b[1;33m \u001b[0mser\u001b[0m \u001b[1;33m=\u001b[0m \u001b[0mserial\u001b[0m\u001b[1;33m.\u001b[0m\u001b[0mSerial\u001b[0m\u001b[1;33m(\u001b[0m\u001b[0moutput\u001b[0m\u001b[1;33m)\u001b[0m \u001b[1;31m# Open serial port which is connected to the device\u001b[0m\u001b[1;33m\u001b[0m\u001b[1;33m\u001b[0m\u001b[0m\n\u001b[0m\u001b[0;32m      7\u001b[0m \u001b[0mser\u001b[0m\u001b[1;33m.\u001b[0m\u001b[0mbaudrate\u001b[0m \u001b[1;33m=\u001b[0m \u001b[1;36m57600\u001b[0m\u001b[1;33m\u001b[0m\u001b[1;33m\u001b[0m\u001b[0m\n\u001b[0;32m      8\u001b[0m \u001b[0mprint\u001b[0m\u001b[1;33m(\u001b[0m\u001b[1;34m\"Serial port used: \"\u001b[0m \u001b[1;33m+\u001b[0m \u001b[0mser\u001b[0m\u001b[1;33m.\u001b[0m\u001b[0mname\u001b[0m\u001b[1;33m)\u001b[0m \u001b[1;31m# Check which port was really used\u001b[0m\u001b[1;33m\u001b[0m\u001b[1;33m\u001b[0m\u001b[0m\n",
      "\u001b[1;32m~\\anaconda3\\lib\\site-packages\\serial\\serialwin32.py\u001b[0m in \u001b[0;36m__init__\u001b[1;34m(self, *args, **kwargs)\u001b[0m\n\u001b[0;32m     31\u001b[0m         \u001b[0mself\u001b[0m\u001b[1;33m.\u001b[0m\u001b[0m_overlapped_read\u001b[0m \u001b[1;33m=\u001b[0m \u001b[1;32mNone\u001b[0m\u001b[1;33m\u001b[0m\u001b[1;33m\u001b[0m\u001b[0m\n\u001b[0;32m     32\u001b[0m         \u001b[0mself\u001b[0m\u001b[1;33m.\u001b[0m\u001b[0m_overlapped_write\u001b[0m \u001b[1;33m=\u001b[0m \u001b[1;32mNone\u001b[0m\u001b[1;33m\u001b[0m\u001b[1;33m\u001b[0m\u001b[0m\n\u001b[1;32m---> 33\u001b[1;33m         \u001b[0msuper\u001b[0m\u001b[1;33m(\u001b[0m\u001b[0mSerial\u001b[0m\u001b[1;33m,\u001b[0m \u001b[0mself\u001b[0m\u001b[1;33m)\u001b[0m\u001b[1;33m.\u001b[0m\u001b[0m__init__\u001b[0m\u001b[1;33m(\u001b[0m\u001b[1;33m*\u001b[0m\u001b[0margs\u001b[0m\u001b[1;33m,\u001b[0m \u001b[1;33m**\u001b[0m\u001b[0mkwargs\u001b[0m\u001b[1;33m)\u001b[0m\u001b[1;33m\u001b[0m\u001b[1;33m\u001b[0m\u001b[0m\n\u001b[0m\u001b[0;32m     34\u001b[0m \u001b[1;33m\u001b[0m\u001b[0m\n\u001b[0;32m     35\u001b[0m     \u001b[1;32mdef\u001b[0m \u001b[0mopen\u001b[0m\u001b[1;33m(\u001b[0m\u001b[0mself\u001b[0m\u001b[1;33m)\u001b[0m\u001b[1;33m:\u001b[0m\u001b[1;33m\u001b[0m\u001b[1;33m\u001b[0m\u001b[0m\n",
      "\u001b[1;32m~\\anaconda3\\lib\\site-packages\\serial\\serialutil.py\u001b[0m in \u001b[0;36m__init__\u001b[1;34m(self, port, baudrate, bytesize, parity, stopbits, timeout, xonxoff, rtscts, write_timeout, dsrdtr, inter_byte_timeout, exclusive, **kwargs)\u001b[0m\n\u001b[0;32m    242\u001b[0m \u001b[1;33m\u001b[0m\u001b[0m\n\u001b[0;32m    243\u001b[0m         \u001b[1;32mif\u001b[0m \u001b[0mport\u001b[0m \u001b[1;32mis\u001b[0m \u001b[1;32mnot\u001b[0m \u001b[1;32mNone\u001b[0m\u001b[1;33m:\u001b[0m\u001b[1;33m\u001b[0m\u001b[1;33m\u001b[0m\u001b[0m\n\u001b[1;32m--> 244\u001b[1;33m             \u001b[0mself\u001b[0m\u001b[1;33m.\u001b[0m\u001b[0mopen\u001b[0m\u001b[1;33m(\u001b[0m\u001b[1;33m)\u001b[0m\u001b[1;33m\u001b[0m\u001b[1;33m\u001b[0m\u001b[0m\n\u001b[0m\u001b[0;32m    245\u001b[0m \u001b[1;33m\u001b[0m\u001b[0m\n\u001b[0;32m    246\u001b[0m     \u001b[1;31m#  -  -  -  -  -  -  -  -  -  -  -  -  -  -  -  -  -  -  -  -  -  -  -  -\u001b[0m\u001b[1;33m\u001b[0m\u001b[1;33m\u001b[0m\u001b[0m\n",
      "\u001b[1;32m~\\anaconda3\\lib\\site-packages\\serial\\serialwin32.py\u001b[0m in \u001b[0;36mopen\u001b[1;34m(self)\u001b[0m\n\u001b[0;32m     62\u001b[0m         \u001b[1;32mif\u001b[0m \u001b[0mself\u001b[0m\u001b[1;33m.\u001b[0m\u001b[0m_port_handle\u001b[0m \u001b[1;33m==\u001b[0m \u001b[0mwin32\u001b[0m\u001b[1;33m.\u001b[0m\u001b[0mINVALID_HANDLE_VALUE\u001b[0m\u001b[1;33m:\u001b[0m\u001b[1;33m\u001b[0m\u001b[1;33m\u001b[0m\u001b[0m\n\u001b[0;32m     63\u001b[0m             \u001b[0mself\u001b[0m\u001b[1;33m.\u001b[0m\u001b[0m_port_handle\u001b[0m \u001b[1;33m=\u001b[0m \u001b[1;32mNone\u001b[0m    \u001b[1;31m# 'cause __del__ is called anyway\u001b[0m\u001b[1;33m\u001b[0m\u001b[1;33m\u001b[0m\u001b[0m\n\u001b[1;32m---> 64\u001b[1;33m             \u001b[1;32mraise\u001b[0m \u001b[0mSerialException\u001b[0m\u001b[1;33m(\u001b[0m\u001b[1;34m\"could not open port {!r}: {!r}\"\u001b[0m\u001b[1;33m.\u001b[0m\u001b[0mformat\u001b[0m\u001b[1;33m(\u001b[0m\u001b[0mself\u001b[0m\u001b[1;33m.\u001b[0m\u001b[0mportstr\u001b[0m\u001b[1;33m,\u001b[0m \u001b[0mctypes\u001b[0m\u001b[1;33m.\u001b[0m\u001b[0mWinError\u001b[0m\u001b[1;33m(\u001b[0m\u001b[1;33m)\u001b[0m\u001b[1;33m)\u001b[0m\u001b[1;33m)\u001b[0m\u001b[1;33m\u001b[0m\u001b[1;33m\u001b[0m\u001b[0m\n\u001b[0m\u001b[0;32m     65\u001b[0m \u001b[1;33m\u001b[0m\u001b[0m\n\u001b[0;32m     66\u001b[0m         \u001b[1;32mtry\u001b[0m\u001b[1;33m:\u001b[0m\u001b[1;33m\u001b[0m\u001b[1;33m\u001b[0m\u001b[0m\n",
      "\u001b[1;31mSerialException\u001b[0m: could not open port '': FileNotFoundError(2, 'The system cannot find the path specified.', None, 3)"
     ]
    }
   ],
   "source": [
    "# Serial port\n",
    "stream = os.popen('powershell -command \"[System.IO.Ports.SerialPort]::getportnames()\"')\n",
    "output = stream.read()[:-1] #return output of used usb, if no others are connected\n",
    "print(output)\n",
    "\n",
    "ser = serial.Serial(output) # Open serial port which is connected to the device\n",
    "ser.baudrate = 57600\n",
    "print(\"Serial port used: \" + ser.name) # Check which port was really used"
   ]
  },
  {
   "cell_type": "code",
   "execution_count": 3,
   "id": "88d965e9",
   "metadata": {},
   "outputs": [
    {
     "data": {
      "text/plain": [
       "Serial<id=0x1f00f6cca30, open=True>(port='COM5', baudrate=57600, bytesize=8, parity='N', stopbits=1, timeout=None, xonxoff=False, rtscts=False, dsrdtr=False)"
      ]
     },
     "execution_count": 3,
     "metadata": {},
     "output_type": "execute_result"
    }
   ],
   "source": [
    "ser"
   ]
  },
  {
   "cell_type": "code",
   "execution_count": 6,
   "id": "367f670c",
   "metadata": {},
   "outputs": [
    {
     "ename": "Error",
     "evalue": "Odd-length string",
     "output_type": "error",
     "traceback": [
      "\u001b[1;31m---------------------------------------------------------------------------\u001b[0m",
      "\u001b[1;31mError\u001b[0m                                     Traceback (most recent call last)",
      "\u001b[1;32m~\\AppData\\Local\\Temp/ipykernel_9128/528844312.py\u001b[0m in \u001b[0;36m<module>\u001b[1;34m\u001b[0m\n\u001b[0;32m      1\u001b[0m \u001b[1;32mimport\u001b[0m \u001b[0mbinascii\u001b[0m\u001b[1;33m\u001b[0m\u001b[1;33m\u001b[0m\u001b[0m\n\u001b[1;32m----> 2\u001b[1;33m \u001b[0mbinascii\u001b[0m\u001b[1;33m.\u001b[0m\u001b[0munhexlify\u001b[0m\u001b[1;33m(\u001b[0m\u001b[1;34mb'128'\u001b[0m\u001b[1;33m)\u001b[0m\u001b[1;33m\u001b[0m\u001b[1;33m\u001b[0m\u001b[0m\n\u001b[0m",
      "\u001b[1;31mError\u001b[0m: Odd-length string"
     ]
    }
   ],
   "source": [
    "import binascii\n",
    "binascii.unhexlify(b'128')"
   ]
  },
  {
   "cell_type": "markdown",
   "id": "da0c1ba3",
   "metadata": {},
   "source": [
    "# Byte Analysis"
   ]
  },
  {
   "cell_type": "code",
   "execution_count": 14,
   "id": "15eec554",
   "metadata": {},
   "outputs": [
    {
     "data": {
      "text/plain": [
       "b'\\x0f\\x11\\x10\\x03\\xb0\\x01\\x00\\xd5\\xf0'"
      ]
     },
     "execution_count": 14,
     "metadata": {},
     "output_type": "execute_result"
    }
   ],
   "source": [
    "###testing \"wizard\" sequence\n",
    "\n",
    "#string='ÿ°Øð'\n",
    "#a=string.encode()\n",
    "#ser.write(b\"\\x1b\\x00\\x20\\x3a\\x8d\\x57\\x89\\xc5\\xff\\xff\\x00\\x00\\x00\\x00\\x09\\x00\\x01\\x01\\x00\\x01\\x00\\x81\\x03\\x0d\\x00\\x00\\x00\\x01\\x60\\x0f\\x11\\x10\\x05\\x80\\xa4\\x02\\x00\\xf9\\x45\\xf0\")\n",
    "ser.write(b\"\\x0f\\x10\\xff\\x05\\xb0\\x01\\x02\\x00\\x11\\xd8\\xf0\")\n",
    "time.sleep(0.2)\n",
    "ser.read_all()\n"
   ]
  },
  {
   "cell_type": "code",
   "execution_count": 10,
   "id": "738bae64",
   "metadata": {},
   "outputs": [
    {
     "name": "stdout",
     "output_type": "stream",
     "text": [
      "\n",
      "LDEna - Laser driver enable:\n",
      "byte (bin) = 0b00001111\n",
      "byte (bin) = 0b00010001\n",
      "byte (bin) = 0b00010001\n",
      "byte (bin) = 0b00000011\n",
      "byte (bin) = 0b01000000\n",
      "byte (bin) = 0b00010101\n",
      "byte (bin) = 0b00000000\n",
      "byte (bin) = 0b01111010\n",
      "byte (bin) = 0b11110000\n"
     ]
    }
   ],
   "source": [
    "# LDEna - Laser driver enable\n",
    "print(\"\\nLDEna - Laser driver enable:\")\n",
    "b=b\"\\x0F\\x11\\xFF\\x03\\x40\\x15\\x00\\x68\\xF0\"\n",
    "#b=b\"\\x0F\\x11\\xFF\\x03\\x40\\x16\\x00\\x69\\xF0\"\n",
    "#this is the byte architecture\n",
    "#Start of frame, Source Address, Destination Address, Length of data,[...Data...],Checksum, End of frame\n",
    "#Data: Alarm-> CLDD temp. fatal threshold, System Register-> Laser Driver enable, No Op\n",
    "ser.write(b)\n",
    "\n",
    "time.sleep(0.5) # Wait 500 ms\n",
    "\n",
    "i = 0\n",
    "while(i < 9):\n",
    "    i = i + 1\n",
    "    byte = ser.read(1) # Read data byte\n",
    "    print(\"byte (bin) = 0b\" + \"{0:08b}\".format(ord(byte)))\n",
    "\n",
    "time.sleep(3.000) # Wait 3 s"
   ]
  },
  {
   "cell_type": "code",
   "execution_count": 5,
   "id": "c415ab6c",
   "metadata": {},
   "outputs": [
    {
     "name": "stdout",
     "output_type": "stream",
     "text": [
      "\n",
      "DevType - Device type:\n"
     ]
    },
    {
     "data": {
      "text/plain": [
       "b\"\\x0f\\x11\\x11\\x0f\\x80\\x07\\x0cLASER DRIVER'\\xf0\""
      ]
     },
     "execution_count": 5,
     "metadata": {},
     "output_type": "execute_result"
    }
   ],
   "source": [
    "# DevType - Device type\n",
    "print(\"\\nDevType - Device type:\")\n",
    "b=b\"\\x0F\\x11\\xFF\\x03\\x80\\x07\\x00\\x9A\\xF0\"\n",
    "ser.write(b)\n",
    "\n",
    "time.sleep(0.500) # Wait 500 ms\n",
    "\n",
    "ser.read_all()\n",
    "#i = 0\n",
    "#while(i < 21):\n",
    "   # i = i + 1\n",
    "   # byte = ser.read(1) # Read data byte\n",
    "   # print(\"byte (bin) = 0b\" + \"{0:08b}\".format(ord(byte)))"
   ]
  },
  {
   "cell_type": "code",
   "execution_count": 9,
   "id": "348d47d9",
   "metadata": {},
   "outputs": [
    {
     "name": "stdout",
     "output_type": "stream",
     "text": [
      "\n",
      "PLIPSet - Configures the laser diode current/power (write):\n",
      "b'\\x0f\\x11\\x11\\x03\\xa0r\\x007\\xf0'\n"
     ]
    }
   ],
   "source": [
    "# PLIPSet - Configures the laser diode current/power (write)\n",
    "print(\"\\nPLIPSet - Configures the laser diode current/power (write):\")\n",
    "#b=b\"\\x0f\\x10\\x11\\x05\\xb0\\x72\\x02\\x00\\xfb\\x45\\xf0\"\n",
    "def string_to_byte(x):\n",
    "    if x<=197:\n",
    "        h1=hex(x)[2:]\n",
    "        h2=hex(145-(100-x))[2:]\n",
    "        stringo=\"0F11FF07A0720400\" + h1 + \"0000\" + h2 + 'F0'\n",
    "        return bytes.fromhex(stringo)\n",
    "    else:\n",
    "        h1=hex(x)[2:]\n",
    "        h2=hex(69-(251-x))[2:]\n",
    "        stringo=\"0F101105B0720200\" + h1 + h2 + 'F0'\n",
    "        return bytes.fromhex(stringo)\n",
    "    \n",
    "#b=b\"\\x0F\\x11\\xFF\\x07\\xA0\\x72\\x04\\x00\\x32\\x00\\x00\\x5F\\xF0\" #0x64=100\n",
    "\n",
    "b=string_to_byte(50)\n",
    "ser.write(b)\n",
    "#this is the byte architecture\n",
    "#Start of frame, Source Address, Destination Address, Length of data,[...Data...],Checksum, End of frame\n",
    "#Data: Monitorization->CLDD temp.,Current/Power config, create lengthed buffer, buffer...\n",
    "time.sleep(0.500) # Wait 500 ms\n",
    "\n",
    "print(ser.read_all())\n",
    "\n",
    "#i = 0\n",
    "#while(i < 9):\n",
    " #   i = i + 1\n",
    "  #  byte = ser.read(1) # Read data byte\n",
    "   # print(\"byte (bin) = 0b\" + \"{0:08b}\".format(ord(byte)))"
   ]
  },
  {
   "cell_type": "code",
   "execution_count": 8,
   "id": "d4c6518e",
   "metadata": {},
   "outputs": [
    {
     "name": "stdout",
     "output_type": "stream",
     "text": [
      "\n",
      "PLIPSet - Configures the laser diode current/power (read):\n",
      "b'\\x0f\\x11\\x11\\x03D\\x13\\x00|\\xf0\\x0f\\x11\\x11\\x03@\\x14\\x00y\\xf0\\x0f\\x11\\x11\\x05\\x80\\xa1\\x02\\x00\\x00J\\xf0'\n",
      "0\n"
     ]
    }
   ],
   "source": [
    "# PLIPSet - Configures the laser diode current/power (read)\n",
    "print(\"\\nPLIPSet - Configures the laser diode current/power (read):\")\n",
    "b=b\"\\x0F\\x11\\xFF\\x03\\x80\\xA1\\x00\\x34\\xF0\" #current\n",
    "#data: laser output power, config diode current/power, No op\n",
    "ser.write(b)\n",
    "\n",
    "time.sleep(0.500) # Wait 500 ms\n",
    "\n",
    "a=ser.read_all()\n",
    "print(a)\n",
    "print(a[-3])\n",
    "#i = 0\n",
    "#while(i < 11):\n",
    " #   i = i + 1\n",
    "  #  byte = ser.read(1) # Read data byte\n",
    "   # if (i==9 or i==10):\n",
    "    #    print(int(byte[1:], base=16),byte)"
   ]
  },
  {
   "cell_type": "code",
   "execution_count": 17,
   "id": "9c6b2358",
   "metadata": {},
   "outputs": [
    {
     "name": "stdout",
     "output_type": "stream",
     "text": [
      "\n",
      "TECTSet - Configures the TEC temperature (write):\n",
      "fa 47\n",
      "0F101105B0750200fa47F0\n"
     ]
    },
    {
     "data": {
      "text/plain": [
       "b'\\x0f\\x11\\x10\\x03\\xb0u\\x00I\\xf0'"
      ]
     },
     "execution_count": 17,
     "metadata": {},
     "output_type": "execute_result"
    }
   ],
   "source": [
    "# TECTSet - Configures the TEC temperature (write)\n",
    "print(\"\\nTECTSet - Configures the TEC temperature (write):\")\n",
    "#b=b\"\\x0F\\x11\\xFF\\x06\\xA0\\x75\\x03\\x00\\xC8\\x00\\xF6\\xF0\"\n",
    "#b=b\"\\x0f\\x10\\x11\\x05\\xb0\\x75\\x02\\x00\\xfb\\x48\\xf0\"\n",
    "\n",
    "def string_to_byte1(x):\n",
    "    h1=hex(x)[2:]\n",
    "    h2=hex(72-(251-x))[2:]\n",
    "    print(h1,h2)\n",
    "    stringo=\"0F101105B0750200\" + h1 + h2 + 'F0'\n",
    "    print(stringo)\n",
    "    return bytes.fromhex(stringo)\n",
    "\n",
    "#C8=200\n",
    "b=string_to_byte1(250) #ºC*10\n",
    "ser.write(b)\n",
    "time.sleep(0.500) # Wait 500 ms\n",
    "\n",
    "ser.read_all()\n",
    "#i = 0\n",
    "#while(i < 9):\n",
    "#    i = i + 1\n",
    " #   byte = ser.read(1) # Read data byte\n",
    "  #  print(\"byte (bin) = 0b\" + \"{0:08b}\".format(ord(byte)))"
   ]
  },
  {
   "cell_type": "code",
   "execution_count": 3,
   "id": "2f92c354",
   "metadata": {},
   "outputs": [
    {
     "name": "stdout",
     "output_type": "stream",
     "text": [
      "\n",
      "TECTSet - Configures the TEC temperature (read):\n",
      "250\n",
      "24\n",
      "251\n",
      "72\n"
     ]
    }
   ],
   "source": [
    "# TECTSet - Configures the TEC temperature (read)\n",
    "print(\"\\nTECTSet - Configures the TEC temperature (read):\")\n",
    "b=b\"\\x0F\\x11\\xFF\\x03\\x80\\x75\\x00\\x08\\xF0\"\n",
    "ser.write(b)\n",
    "\n",
    "time.sleep(0.500) # Wait 500 ms\n",
    "\n",
    "a=ser.read_all()\n",
    "print(a[-3])\n",
    "print(a[-2])\n",
    "\n",
    "#i = 0\n",
    "#while(i < 11):\n",
    " #   i = i + 1\n",
    "  #  byte = ser.read(1) # Read data byte\n",
    "     #print(\"byte (bin) = 0b\" + \"{0:08b}\".format(ord(byte)))\n",
    "b=b\"\\x0F\\x11\\xFF\\x03\\x80\\xA4\\x00\\x37\\xF0\" #this is the real controller\n",
    "ser.write(b)\n",
    "\n",
    "time.sleep(0.500) # Wait 500 ms\n",
    "\n",
    "a=ser.read_all()\n",
    "print(a[-3])\n",
    "print(a[-2])"
   ]
  },
  {
   "cell_type": "code",
   "execution_count": 15,
   "id": "b9cde38e",
   "metadata": {},
   "outputs": [
    {
     "name": "stdout",
     "output_type": "stream",
     "text": [
      "\n",
      "LDDis - Laser driver disable:\n",
      "byte (bin) = 0b00001111\n",
      "byte (bin) = 0b00010001\n",
      "byte (bin) = 0b00010001\n",
      "byte (bin) = 0b00000011\n",
      "byte (bin) = 0b01000000\n",
      "byte (bin) = 0b00010110\n",
      "byte (bin) = 0b00000000\n",
      "byte (bin) = 0b01111011\n",
      "byte (bin) = 0b11110000\n"
     ]
    }
   ],
   "source": [
    "# LDDis - Laser driver disable\n",
    "print(\"\\nLDDis - Laser driver disable:\")\n",
    "b=b\"\\x0F\\x11\\xFF\\x03\\x40\\x16\\x00\\x69\\xF0\"\n",
    "#b=b\"\\x0F\\x11\\xFF\\x03\\x40\\x15\\x00\\x68\\xF0\"\n",
    "ser.write(b)\n",
    "\n",
    "time.sleep(0.500) # Wait 500 ms\n",
    "\n",
    "#print(ser.read_all())\n",
    "i = 0\n",
    "while(i < 9):\n",
    "    i = i + 1\n",
    "    byte = ser.read(1) # Read data byte\n",
    "    print(\"byte (bin) = 0b\" + \"{0:08b}\".format(ord(byte)))"
   ]
  },
  {
   "cell_type": "code",
   "execution_count": 7,
   "id": "694f2c1b",
   "metadata": {},
   "outputs": [
    {
     "data": {
      "text/plain": [
       "9"
      ]
     },
     "execution_count": 7,
     "metadata": {},
     "output_type": "execute_result"
    }
   ],
   "source": [
    "#restart\n",
    "b=b\"\\x0F\\x11\\xFF\\x03\\x40\\x14\\x00\\x67\\xF0\"\n",
    "ser.write(b)"
   ]
  },
  {
   "cell_type": "code",
   "execution_count": 3,
   "id": "63a051e9",
   "metadata": {},
   "outputs": [
    {
     "name": "stdout",
     "output_type": "stream",
     "text": [
      "b'\\x0f\\x11\\x10\\x05\\x80\\x10\\x02\\x00\\x07\\xbf\\xf0'\n",
      "7\n",
      "191\n",
      "Hibernating\n"
     ]
    }
   ],
   "source": [
    "#b=b\"\\x0F\\x11\\xFF\\x06\\xA0\\x75\\x03\\x00\\xC8\\x00\\xF6\\xF0\"\n",
    "#b=b\"\\x0f\\x10\\x11\\x05\\xa0\\x25\\x02\\x00\\x00\\xed\\xf0\"\n",
    "#b=b\"\\x0f\\x10\\x11\\x05\\xb0\\x75\\x02\\x00\\xfa\\x47\\xf0\"\n",
    "#b=b\"\\x0f\\x10\\x11\\x05\\x80\\x10\\x02\\x00\\x00\\xb8\\xf0\"\n",
    "#b=b\"\\x0f\\x10\\x11\\x05\\xb0\\x72\\x02\\x00\\xfb\\x45\\xf0\"\n",
    "b=b\"\\x0f\\x10\\x11\\x05\\x80\\x10\\x02\\x00\\x00\\xb8\\xf0\"\n",
    "ser.write(b)\n",
    "time.sleep(0.2)\n",
    "status=''\n",
    "a=ser.read_all()\n",
    "print(a)\n",
    "print(a[-3])\n",
    "print(a[-2])\n",
    "if a[-3]==36:\n",
    "    status='Disabled'\n",
    "if a[-3]==7:\n",
    "    status='Hibernating'\n",
    "if a[-3]==5:\n",
    "    status='Enabled'\n",
    "if a[-3]==2:\n",
    "    status='Ready'\n",
    "\n",
    "print(status)"
   ]
  },
  {
   "cell_type": "code",
   "execution_count": 5,
   "id": "b744a30f",
   "metadata": {},
   "outputs": [
    {
     "name": "stdout",
     "output_type": "stream",
     "text": [
      "\n",
      "Serial port closed\n"
     ]
    }
   ],
   "source": [
    "# Serial port\n",
    "ser.close() # Close serial port\n",
    "print(\"\\nSerial port closed\")"
   ]
  },
  {
   "cell_type": "markdown",
   "id": "924f1b6e",
   "metadata": {},
   "source": [
    "# Classe"
   ]
  },
  {
   "cell_type": "code",
   "execution_count": 1,
   "id": "13d44886",
   "metadata": {},
   "outputs": [],
   "source": [
    "import serial\n",
    "import time\n",
    "import os\n",
    "\n",
    "stream = os.popen('powershell -command \"[System.IO.Ports.SerialPort]::getportnames()\"')\n",
    "output = stream.read()[:-1] #return output of used usb, if no others are connected\n",
    "\n",
    "class mwLaser():\n",
    "    \n",
    "    def __init__(self):\n",
    "        super().__init__()\n",
    "        \n",
    "        self.port = serial.Serial(output) # Open serial port which is connected to the device\n",
    "        self.port.baudrate = 57600\n",
    "        self.current = 0\n",
    "        self.power = 0\n",
    "        self.TEC_temperature = 0\n",
    "        self.status='Ready'\n",
    "        self.laser_status()\n",
    "        \n",
    "    def laser_status(self):\n",
    "        time.sleep(0.3)\n",
    "        b=b\"\\x0f\\x10\\x11\\x05\\x80\\x10\\x02\\x00\\x00\\xb8\\xf0\"\n",
    "        self.port.write(b)\n",
    "        time.sleep(0.2)\n",
    "        statuse=''\n",
    "        a=self.port.read_all()\n",
    "        print(a)\n",
    "        dig= a[-3] if len(str(a[-2]))>len(str(a[-3])) else a[-2]\n",
    "        if dig in [36,66,28]:\n",
    "            statuse='Disabled'\n",
    "        if dig in [7,71]:\n",
    "            statuse='Hibernating'\n",
    "        if dig in [5,53,37,117,45]:\n",
    "            statuse='Active'\n",
    "        if dig in [2]:\n",
    "            statuse='Ready'\n",
    "        if dig in [67,69,29]:\n",
    "            statuse='Configuring'\n",
    "        self.status=statuse\n",
    "        \n",
    "    def update_current(self):\n",
    "        b=b\"\\x0F\\x11\\xFF\\x03\\x80\\xA1\\x00\\x34\\xF0\"\n",
    "        self.port.write(b)\n",
    "        time.sleep(0.200)\n",
    "        self.current=self.port.read_all()[-3]\n",
    "        \n",
    "    def update_power(self):\n",
    "        b=b\"\\x0F\\x11\\xFF\\x03\\x80\\xA2\\x00\\x35\\xF0\"\n",
    "        self.port.write(b)\n",
    "        time.sleep(0.200)\n",
    "        self.power=self.port.read_all()[-3]\n",
    "    \n",
    "    def update_TEC_temperature(self):\n",
    "        b=b\"\\x0F\\x11\\xFF\\x03\\x80\\xA4\\x00\\x37\\xF0\"\n",
    "        self.port.write(b)\n",
    "        time.sleep(0.200)\n",
    "        self.TEC_temperature=self.port.read_all()[-3]/10\n",
    "    \n",
    "    def update_TEC_current(self):\n",
    "        a=0\n",
    "    \n",
    "    def set_TEC_temperature(self,x):\n",
    "        h1=hex(x)[2:]\n",
    "        h2=hex(246-(200-x))[2:]\n",
    "        stringo=\"0F101105B0750200\" + h1 + h2 + 'F0'\n",
    "        b=bytes.fromhex(stringo)\n",
    "        self.port.write(b)\n",
    "        time.sleep(0.200)\n",
    "        \n",
    "    def set_current(self,x):\n",
    "        if x<=197:\n",
    "            h1=hex(x)[2:]\n",
    "            h2=hex(145-(100-x))[2:]\n",
    "            stringo=\"0F11FF07A0720400\" + h1 + \"0000\" + h2 + 'F0'\n",
    "            b=bytes.fromhex(stringo)\n",
    "            self.port.write(b)\n",
    "            time.sleep(0.200)\n",
    "        else:\n",
    "            h1=hex(x)[2:]\n",
    "            h2=hex(69-(251-x))[2:]\n",
    "            stringo=\"0F101105B0720200\" + h1 + h2 + 'F0'\n",
    "            b=bytes.fromhex(stringo)\n",
    "            self.port.write(b)\n",
    "            time.sleep(0.200)\n",
    "    \n",
    "    def return_data(self):\n",
    "        update_current()\n",
    "        update_power()\n",
    "        update_TEC_temperature()\n",
    "        laser_status()\n",
    "        return [self.current,self.power,self.TEC_temperature,self.status]\n",
    "    \n",
    "    def enable(self):\n",
    "        b=b\"\\x0F\\x11\\xFF\\x03\\x40\\x15\\x00\\x68\\xF0\"\n",
    "        self.port.write(b)\n",
    "        \n",
    "        \n",
    "    def disable(self):\n",
    "        b=b\"\\x0F\\x11\\xFF\\x03\\x40\\x16\\x00\\x69\\xF0\"\n",
    "        self.port.write(b)\n",
    "    \n",
    "    def reset(self):\n",
    "        time.sleep(0.100)\n",
    "        b=b\"\\x0F\\x11\\xFF\\x03\\x40\\x14\\x00\\x67\\xF0\"\n",
    "        self.port.write(b)\n",
    "        \n",
    "    def hibernate(self):\n",
    "        self.disable()\n",
    "        time.sleep(0.100)\n",
    "        b=b\"\\x0F\\x11\\xFF\\x03\\x40\\x13\\x00\\x66\\xF0\"\n",
    "        self.port.write(b)\n",
    "    \n",
    "    def close_port(self):\n",
    "        self.port.close()\n",
    "        print(\"\\nSerial port closed\")"
   ]
  },
  {
   "cell_type": "code",
   "execution_count": 2,
   "id": "1ec59026",
   "metadata": {},
   "outputs": [
    {
     "name": "stdout",
     "output_type": "stream",
     "text": [
      "b''\n"
     ]
    },
    {
     "ename": "IndexError",
     "evalue": "index out of range",
     "output_type": "error",
     "traceback": [
      "\u001b[1;31m---------------------------------------------------------------------------\u001b[0m",
      "\u001b[1;31mIndexError\u001b[0m                                Traceback (most recent call last)",
      "\u001b[1;32m~\\AppData\\Local\\Temp/ipykernel_1392/3290859630.py\u001b[0m in \u001b[0;36m<module>\u001b[1;34m\u001b[0m\n\u001b[1;32m----> 1\u001b[1;33m \u001b[0mlaser\u001b[0m\u001b[1;33m=\u001b[0m\u001b[0mmwLaser\u001b[0m\u001b[1;33m(\u001b[0m\u001b[1;33m)\u001b[0m\u001b[1;33m\u001b[0m\u001b[1;33m\u001b[0m\u001b[0m\n\u001b[0m",
      "\u001b[1;32m~\\AppData\\Local\\Temp/ipykernel_1392/289080530.py\u001b[0m in \u001b[0;36m__init__\u001b[1;34m(self)\u001b[0m\n\u001b[0;32m     17\u001b[0m         \u001b[0mself\u001b[0m\u001b[1;33m.\u001b[0m\u001b[0mTEC_temperature\u001b[0m \u001b[1;33m=\u001b[0m \u001b[1;36m0\u001b[0m\u001b[1;33m\u001b[0m\u001b[1;33m\u001b[0m\u001b[0m\n\u001b[0;32m     18\u001b[0m         \u001b[0mself\u001b[0m\u001b[1;33m.\u001b[0m\u001b[0mstatus\u001b[0m\u001b[1;33m=\u001b[0m\u001b[1;34m'Ready'\u001b[0m\u001b[1;33m\u001b[0m\u001b[1;33m\u001b[0m\u001b[0m\n\u001b[1;32m---> 19\u001b[1;33m         \u001b[0mself\u001b[0m\u001b[1;33m.\u001b[0m\u001b[0mlaser_status\u001b[0m\u001b[1;33m(\u001b[0m\u001b[1;33m)\u001b[0m\u001b[1;33m\u001b[0m\u001b[1;33m\u001b[0m\u001b[0m\n\u001b[0m\u001b[0;32m     20\u001b[0m \u001b[1;33m\u001b[0m\u001b[0m\n\u001b[0;32m     21\u001b[0m     \u001b[1;32mdef\u001b[0m \u001b[0mlaser_status\u001b[0m\u001b[1;33m(\u001b[0m\u001b[0mself\u001b[0m\u001b[1;33m)\u001b[0m\u001b[1;33m:\u001b[0m\u001b[1;33m\u001b[0m\u001b[1;33m\u001b[0m\u001b[0m\n",
      "\u001b[1;32m~\\AppData\\Local\\Temp/ipykernel_1392/289080530.py\u001b[0m in \u001b[0;36mlaser_status\u001b[1;34m(self)\u001b[0m\n\u001b[0;32m     27\u001b[0m         \u001b[0ma\u001b[0m\u001b[1;33m=\u001b[0m\u001b[0mself\u001b[0m\u001b[1;33m.\u001b[0m\u001b[0mport\u001b[0m\u001b[1;33m.\u001b[0m\u001b[0mread_all\u001b[0m\u001b[1;33m(\u001b[0m\u001b[1;33m)\u001b[0m\u001b[1;33m\u001b[0m\u001b[1;33m\u001b[0m\u001b[0m\n\u001b[0;32m     28\u001b[0m         \u001b[0mprint\u001b[0m\u001b[1;33m(\u001b[0m\u001b[0ma\u001b[0m\u001b[1;33m)\u001b[0m\u001b[1;33m\u001b[0m\u001b[1;33m\u001b[0m\u001b[0m\n\u001b[1;32m---> 29\u001b[1;33m         \u001b[0mdig\u001b[0m\u001b[1;33m=\u001b[0m \u001b[0ma\u001b[0m\u001b[1;33m[\u001b[0m\u001b[1;33m-\u001b[0m\u001b[1;36m3\u001b[0m\u001b[1;33m]\u001b[0m \u001b[1;32mif\u001b[0m \u001b[0mlen\u001b[0m\u001b[1;33m(\u001b[0m\u001b[0mstr\u001b[0m\u001b[1;33m(\u001b[0m\u001b[0ma\u001b[0m\u001b[1;33m[\u001b[0m\u001b[1;33m-\u001b[0m\u001b[1;36m2\u001b[0m\u001b[1;33m]\u001b[0m\u001b[1;33m)\u001b[0m\u001b[1;33m)\u001b[0m\u001b[1;33m>\u001b[0m\u001b[0mlen\u001b[0m\u001b[1;33m(\u001b[0m\u001b[0mstr\u001b[0m\u001b[1;33m(\u001b[0m\u001b[0ma\u001b[0m\u001b[1;33m[\u001b[0m\u001b[1;33m-\u001b[0m\u001b[1;36m3\u001b[0m\u001b[1;33m]\u001b[0m\u001b[1;33m)\u001b[0m\u001b[1;33m)\u001b[0m \u001b[1;32melse\u001b[0m \u001b[0ma\u001b[0m\u001b[1;33m[\u001b[0m\u001b[1;33m-\u001b[0m\u001b[1;36m2\u001b[0m\u001b[1;33m]\u001b[0m\u001b[1;33m\u001b[0m\u001b[1;33m\u001b[0m\u001b[0m\n\u001b[0m\u001b[0;32m     30\u001b[0m         \u001b[1;32mif\u001b[0m \u001b[0mdig\u001b[0m \u001b[1;32min\u001b[0m \u001b[1;33m[\u001b[0m\u001b[1;36m36\u001b[0m\u001b[1;33m,\u001b[0m\u001b[1;36m66\u001b[0m\u001b[1;33m,\u001b[0m\u001b[1;36m28\u001b[0m\u001b[1;33m]\u001b[0m\u001b[1;33m:\u001b[0m\u001b[1;33m\u001b[0m\u001b[1;33m\u001b[0m\u001b[0m\n\u001b[0;32m     31\u001b[0m             \u001b[0mstatuse\u001b[0m\u001b[1;33m=\u001b[0m\u001b[1;34m'Disabled'\u001b[0m\u001b[1;33m\u001b[0m\u001b[1;33m\u001b[0m\u001b[0m\n",
      "\u001b[1;31mIndexError\u001b[0m: index out of range"
     ]
    }
   ],
   "source": [
    "laser=mwLaser()"
   ]
  },
  {
   "cell_type": "code",
   "execution_count": 3,
   "id": "27ba25e7",
   "metadata": {},
   "outputs": [
    {
     "data": {
      "text/plain": [
       "'Active'"
      ]
     },
     "execution_count": 3,
     "metadata": {},
     "output_type": "execute_result"
    }
   ],
   "source": [
    "#laser.enable()\n",
    "#laser.laser_status()\n",
    "laser.status"
   ]
  },
  {
   "cell_type": "code",
   "execution_count": 8,
   "id": "bfd3de86",
   "metadata": {},
   "outputs": [],
   "source": [
    "laser.set_current(50)\n",
    "#laser.reset()"
   ]
  },
  {
   "cell_type": "code",
   "execution_count": 18,
   "id": "b5fbe00a",
   "metadata": {},
   "outputs": [],
   "source": [
    "laser.disable()"
   ]
  },
  {
   "cell_type": "code",
   "execution_count": 15,
   "id": "de8b625e",
   "metadata": {},
   "outputs": [
    {
     "name": "stdout",
     "output_type": "stream",
     "text": [
      "\n",
      "Serial port closed\n"
     ]
    }
   ],
   "source": [
    "laser.close_port()"
   ]
  },
  {
   "cell_type": "code",
   "execution_count": null,
   "id": "a4e599b7",
   "metadata": {},
   "outputs": [],
   "source": []
  }
 ],
 "metadata": {
  "kernelspec": {
   "display_name": "Python 3 (ipykernel)",
   "language": "python",
   "name": "python3"
  },
  "language_info": {
   "codemirror_mode": {
    "name": "ipython",
    "version": 3
   },
   "file_extension": ".py",
   "mimetype": "text/x-python",
   "name": "python",
   "nbconvert_exporter": "python",
   "pygments_lexer": "ipython3",
   "version": "3.10.4"
  }
 },
 "nbformat": 4,
 "nbformat_minor": 5
}
