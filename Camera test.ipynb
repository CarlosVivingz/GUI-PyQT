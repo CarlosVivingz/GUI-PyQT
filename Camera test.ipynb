{
 "cells": [
  {
   "cell_type": "markdown",
   "id": "c802511d",
   "metadata": {},
   "source": [
    "# Tentativa de camera com os packages da thorlabs (thorcam)"
   ]
  },
  {
   "cell_type": "code",
   "execution_count": 7,
   "id": "830fbb06",
   "metadata": {},
   "outputs": [],
   "source": [
    "from thorcam.camera import ThorCam\n",
    "class MyThorCam(ThorCam):\n",
    "    def received_camera_response(self, msg, value):\n",
    "        super(MyThorCam, self).received_camera_response(msg, value)\n",
    "        if msg == 'image':\n",
    "            return\n",
    "        print('Received \"{}\" with value \"{}\"'.format(msg, value))\n",
    "    def got_image(self, image, count, queued_count, t):\n",
    "        print('Received image \"{}\" with time \"{}\" and counts \"{}\", \"{}\"'\n",
    "              .format(image, t, count, queued_count))"
   ]
  },
  {
   "cell_type": "code",
   "execution_count": 8,
   "id": "ab828290",
   "metadata": {},
   "outputs": [
    {
     "name": "stderr",
     "output_type": "stream",
     "text": [
      "ERROR:root:Cannot find the thorcam .NET dlls\n",
      "ERROR:root:Traceback (most recent call last):\n",
      "  File \"C:\\Users\\jmfo1\\anaconda3\\lib\\site-packages\\thorcam\\camera.py\", line 60, in run\n",
      "    super(ThorCamProcess, self).run()\n",
      "  File \"C:\\Users\\jmfo1\\anaconda3\\lib\\multiprocessing\\process.py\", line 108, in run\n",
      "    self._target(*self._args, **self._kwargs)\n",
      "  File \"C:\\Users\\jmfo1\\anaconda3\\lib\\site-packages\\thorcam\\camera.py\", line 46, in camera_dot_net_process_entry\n",
      "    server = ThorCamServer(thor_bin_path, server, port, timeout)\n",
      "  File \"C:\\Users\\jmfo1\\anaconda3\\lib\\site-packages\\thorcam\\camera_dot_net.py\", line 619, in __init__\n",
      "    raise ValueError('Cannot find the thorcam .NET dlls')\n",
      "ValueError: Cannot find the thorcam .NET dlls\n",
      "\n",
      "ERROR:root:[WinError 10061] No connection could be made because the target machine actively refused it\n",
      "ERROR:root:Traceback (most recent call last):\n",
      "  File \"C:\\Users\\jmfo1\\anaconda3\\lib\\site-packages\\thorcam\\camera.py\", line 365, in client_run\n",
      "    sock.connect(server_address)\n",
      "ConnectionRefusedError: [WinError 10061] No connection could be made because the target machine actively refused it\n",
      "\n"
     ]
    }
   ],
   "source": [
    "cam = MyThorCam()\n",
    "cam.start_cam_process()"
   ]
  },
  {
   "cell_type": "code",
   "execution_count": null,
   "id": "d5147e91",
   "metadata": {},
   "outputs": [],
   "source": []
  }
 ],
 "metadata": {
  "kernelspec": {
   "display_name": "Python 3 (ipykernel)",
   "language": "python",
   "name": "python3"
  },
  "language_info": {
   "codemirror_mode": {
    "name": "ipython",
    "version": 3
   },
   "file_extension": ".py",
   "mimetype": "text/x-python",
   "name": "python",
   "nbconvert_exporter": "python",
   "pygments_lexer": "ipython3",
   "version": "3.9.11"
  }
 },
 "nbformat": 4,
 "nbformat_minor": 5
}
