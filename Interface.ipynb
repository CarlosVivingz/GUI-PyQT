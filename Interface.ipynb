{
 "cells": [
  {
   "cell_type": "markdown",
   "id": "5facda4a",
   "metadata": {},
   "source": [
    "# Main Window"
   ]
  },
  {
   "cell_type": "code",
   "execution_count": 17,
   "id": "644d0fea",
   "metadata": {},
   "outputs": [
    {
     "name": "stdout",
     "output_type": "stream",
     "text": [
      "Thorlabs.MotionControl.DeviceManagerCLI.SingleDeviceInfo\n",
      "Thread Closed\n"
     ]
    },
    {
     "ename": "AttributeError",
     "evalue": "'NoneType' object has no attribute 'hEvent'",
     "output_type": "error",
     "traceback": [
      "\u001b[1;31m---------------------------------------------------------------------------\u001b[0m",
      "\u001b[1;31mAttributeError\u001b[0m                            Traceback (most recent call last)",
      "\u001b[1;32m~\\Desktop\\João Oliveira\\Programas\\Final\\lone_widgets\\aux_scripts\\laser_utils\\event_handler.py\u001b[0m in \u001b[0;36mupdate\u001b[1;34m(self)\u001b[0m\n\u001b[0;32m     36\u001b[0m \u001b[1;33m\u001b[0m\u001b[0m\n\u001b[0;32m     37\u001b[0m             \u001b[1;32mif\u001b[0m \u001b[0mitem\u001b[0m\u001b[1;33m==\u001b[0m\u001b[1;34m'update'\u001b[0m\u001b[1;33m:\u001b[0m\u001b[1;33m\u001b[0m\u001b[1;33m\u001b[0m\u001b[0m\n\u001b[1;32m---> 38\u001b[1;33m                 \u001b[0mdata\u001b[0m\u001b[1;33m=\u001b[0m\u001b[0mself\u001b[0m\u001b[1;33m.\u001b[0m\u001b[0mlaser\u001b[0m\u001b[1;33m.\u001b[0m\u001b[0mreturn_data\u001b[0m\u001b[1;33m(\u001b[0m\u001b[1;33m)\u001b[0m\u001b[1;33m\u001b[0m\u001b[1;33m\u001b[0m\u001b[0m\n\u001b[0m\u001b[0;32m     39\u001b[0m                 \u001b[0mself\u001b[0m\u001b[1;33m.\u001b[0m\u001b[0mdata\u001b[0m\u001b[1;33m.\u001b[0m\u001b[0memit\u001b[0m\u001b[1;33m(\u001b[0m\u001b[0mdata\u001b[0m\u001b[1;33m)\u001b[0m\u001b[1;33m\u001b[0m\u001b[1;33m\u001b[0m\u001b[0m\n\u001b[0;32m     40\u001b[0m \u001b[1;33m\u001b[0m\u001b[0m\n",
      "\u001b[1;32m~\\Desktop\\João Oliveira\\Programas\\Final\\lone_widgets\\aux_scripts\\laser_utils\\laser_Copy1.py\u001b[0m in \u001b[0;36mreturn_data\u001b[1;34m(self)\u001b[0m\n\u001b[0;32m     98\u001b[0m     \u001b[1;32mdef\u001b[0m \u001b[0mreturn_data\u001b[0m\u001b[1;33m(\u001b[0m\u001b[0mself\u001b[0m\u001b[1;33m)\u001b[0m\u001b[1;33m:\u001b[0m\u001b[1;33m\u001b[0m\u001b[1;33m\u001b[0m\u001b[0m\n\u001b[0;32m     99\u001b[0m         \u001b[0mself\u001b[0m\u001b[1;33m.\u001b[0m\u001b[0mupdate_current\u001b[0m\u001b[1;33m(\u001b[0m\u001b[1;33m)\u001b[0m\u001b[1;33m\u001b[0m\u001b[1;33m\u001b[0m\u001b[0m\n\u001b[1;32m--> 100\u001b[1;33m         \u001b[0mself\u001b[0m\u001b[1;33m.\u001b[0m\u001b[0mupdate_power\u001b[0m\u001b[1;33m(\u001b[0m\u001b[1;33m)\u001b[0m\u001b[1;33m\u001b[0m\u001b[1;33m\u001b[0m\u001b[0m\n\u001b[0m\u001b[0;32m    101\u001b[0m         \u001b[0mself\u001b[0m\u001b[1;33m.\u001b[0m\u001b[0mupdate_TEC_temperature\u001b[0m\u001b[1;33m(\u001b[0m\u001b[1;33m)\u001b[0m\u001b[1;33m\u001b[0m\u001b[1;33m\u001b[0m\u001b[0m\n\u001b[0;32m    102\u001b[0m         \u001b[0mself\u001b[0m\u001b[1;33m.\u001b[0m\u001b[0mupdate_TEC_current\u001b[0m\u001b[1;33m(\u001b[0m\u001b[1;33m)\u001b[0m\u001b[1;33m\u001b[0m\u001b[1;33m\u001b[0m\u001b[0m\n",
      "\u001b[1;32m~\\Desktop\\João Oliveira\\Programas\\Final\\lone_widgets\\aux_scripts\\laser_utils\\laser_Copy1.py\u001b[0m in \u001b[0;36mupdate_power\u001b[1;34m(self)\u001b[0m\n\u001b[0;32m     60\u001b[0m         \u001b[0mself\u001b[0m\u001b[1;33m.\u001b[0m\u001b[0mport\u001b[0m\u001b[1;33m.\u001b[0m\u001b[0mwrite\u001b[0m\u001b[1;33m(\u001b[0m\u001b[0mb\u001b[0m\u001b[1;33m)\u001b[0m\u001b[1;33m\u001b[0m\u001b[1;33m\u001b[0m\u001b[0m\n\u001b[0;32m     61\u001b[0m         \u001b[1;31m#time.sleep(0.15)\u001b[0m\u001b[1;33m\u001b[0m\u001b[1;33m\u001b[0m\u001b[1;33m\u001b[0m\u001b[0m\n\u001b[1;32m---> 62\u001b[1;33m         \u001b[0mread\u001b[0m\u001b[1;33m=\u001b[0m\u001b[0mself\u001b[0m\u001b[1;33m.\u001b[0m\u001b[0mport\u001b[0m\u001b[1;33m.\u001b[0m\u001b[0mread_until\u001b[0m\u001b[1;33m(\u001b[0m\u001b[1;33m)\u001b[0m\u001b[1;33m\u001b[0m\u001b[1;33m\u001b[0m\u001b[0m\n\u001b[0m\u001b[0;32m     63\u001b[0m         \u001b[1;32mif\u001b[0m \u001b[0mlen\u001b[0m\u001b[1;33m(\u001b[0m\u001b[0mread\u001b[0m\u001b[1;33m)\u001b[0m\u001b[1;33m==\u001b[0m\u001b[1;36m0\u001b[0m\u001b[1;33m:\u001b[0m\u001b[1;33m\u001b[0m\u001b[1;33m\u001b[0m\u001b[0m\n\u001b[0;32m     64\u001b[0m             \u001b[1;32mpass\u001b[0m\u001b[1;33m\u001b[0m\u001b[1;33m\u001b[0m\u001b[0m\n",
      "\u001b[1;32m~\\anaconda3\\envs\\venvj\\lib\\site-packages\\serial\\serialutil.py\u001b[0m in \u001b[0;36mread_until\u001b[1;34m(self, expected, size)\u001b[0m\n\u001b[0;32m    661\u001b[0m         \u001b[0mtimeout\u001b[0m \u001b[1;33m=\u001b[0m \u001b[0mTimeout\u001b[0m\u001b[1;33m(\u001b[0m\u001b[0mself\u001b[0m\u001b[1;33m.\u001b[0m\u001b[0m_timeout\u001b[0m\u001b[1;33m)\u001b[0m\u001b[1;33m\u001b[0m\u001b[1;33m\u001b[0m\u001b[0m\n\u001b[0;32m    662\u001b[0m         \u001b[1;32mwhile\u001b[0m \u001b[1;32mTrue\u001b[0m\u001b[1;33m:\u001b[0m\u001b[1;33m\u001b[0m\u001b[1;33m\u001b[0m\u001b[0m\n\u001b[1;32m--> 663\u001b[1;33m             \u001b[0mc\u001b[0m \u001b[1;33m=\u001b[0m \u001b[0mself\u001b[0m\u001b[1;33m.\u001b[0m\u001b[0mread\u001b[0m\u001b[1;33m(\u001b[0m\u001b[1;36m1\u001b[0m\u001b[1;33m)\u001b[0m\u001b[1;33m\u001b[0m\u001b[1;33m\u001b[0m\u001b[0m\n\u001b[0m\u001b[0;32m    664\u001b[0m             \u001b[1;32mif\u001b[0m \u001b[0mc\u001b[0m\u001b[1;33m:\u001b[0m\u001b[1;33m\u001b[0m\u001b[1;33m\u001b[0m\u001b[0m\n\u001b[0;32m    665\u001b[0m                 \u001b[0mline\u001b[0m \u001b[1;33m+=\u001b[0m \u001b[0mc\u001b[0m\u001b[1;33m\u001b[0m\u001b[1;33m\u001b[0m\u001b[0m\n",
      "\u001b[1;32m~\\anaconda3\\envs\\venvj\\lib\\site-packages\\serial\\serialwin32.py\u001b[0m in \u001b[0;36mread\u001b[1;34m(self, size)\u001b[0m\n\u001b[0;32m    269\u001b[0m             \u001b[1;32mraise\u001b[0m \u001b[0mPortNotOpenError\u001b[0m\u001b[1;33m(\u001b[0m\u001b[1;33m)\u001b[0m\u001b[1;33m\u001b[0m\u001b[1;33m\u001b[0m\u001b[0m\n\u001b[0;32m    270\u001b[0m         \u001b[1;32mif\u001b[0m \u001b[0msize\u001b[0m \u001b[1;33m>\u001b[0m \u001b[1;36m0\u001b[0m\u001b[1;33m:\u001b[0m\u001b[1;33m\u001b[0m\u001b[1;33m\u001b[0m\u001b[0m\n\u001b[1;32m--> 271\u001b[1;33m             \u001b[0mwin32\u001b[0m\u001b[1;33m.\u001b[0m\u001b[0mResetEvent\u001b[0m\u001b[1;33m(\u001b[0m\u001b[0mself\u001b[0m\u001b[1;33m.\u001b[0m\u001b[0m_overlapped_read\u001b[0m\u001b[1;33m.\u001b[0m\u001b[0mhEvent\u001b[0m\u001b[1;33m)\u001b[0m\u001b[1;33m\u001b[0m\u001b[1;33m\u001b[0m\u001b[0m\n\u001b[0m\u001b[0;32m    272\u001b[0m             \u001b[0mflags\u001b[0m \u001b[1;33m=\u001b[0m \u001b[0mwin32\u001b[0m\u001b[1;33m.\u001b[0m\u001b[0mDWORD\u001b[0m\u001b[1;33m(\u001b[0m\u001b[1;33m)\u001b[0m\u001b[1;33m\u001b[0m\u001b[1;33m\u001b[0m\u001b[0m\n\u001b[0;32m    273\u001b[0m             \u001b[0mcomstat\u001b[0m \u001b[1;33m=\u001b[0m \u001b[0mwin32\u001b[0m\u001b[1;33m.\u001b[0m\u001b[0mCOMSTAT\u001b[0m\u001b[1;33m(\u001b[0m\u001b[1;33m)\u001b[0m\u001b[1;33m\u001b[0m\u001b[1;33m\u001b[0m\u001b[0m\n",
      "\u001b[1;31mAttributeError\u001b[0m: 'NoneType' object has no attribute 'hEvent'"
     ]
    },
    {
     "name": "stdout",
     "output_type": "stream",
     "text": [
      "\n",
      "Serial port closed\n"
     ]
    },
    {
     "name": "stderr",
     "output_type": "stream",
     "text": [
      "sys:1: ResourceWarning: unclosed socket <zmq.Socket(zmq.PUSH) at 0x1eed3b405e0>\n",
      "ResourceWarning: Enable tracemalloc to get the object allocation traceback\n"
     ]
    },
    {
     "name": "stdout",
     "output_type": "stream",
     "text": [
      "Closed, bby!\n"
     ]
    }
   ],
   "source": [
    "import sys\n",
    "import os\n",
    "\n",
    "sys.path.append(os.path.join(os.getcwd(),'lone_widgets'))\n",
    "\n",
    "#interface 2.0\n",
    "from PyQt5.QtCore import *\n",
    "from PyQt5.QtWidgets import *\n",
    "from PyQt5.QtGui import *\n",
    "import qdarkstyle\n",
    "from lone_widgets.Calibration_Mode_Widget import calibration_mode\n",
    "from lone_widgets.Live_Mode_Widget import live_mode\n",
    "\n",
    "#import breeze_resources\n",
    "\n",
    "class interface(QWidget):\n",
    "    \"\"\"\n",
    "    This is my widget.\n",
    "    \"\"\"\n",
    "    def __init__(self):\n",
    "        super().__init__()\n",
    "        \n",
    "        self.setWindowTitle(\"Ferdinand\")\n",
    "        \n",
    "        #layout principal\n",
    "        self.global_layout = QHBoxLayout(self)\n",
    "        \n",
    "        #initiate tabs\n",
    "        splash.showMessage('Seting up Live Mode...')\n",
    "        self.live=live_mode()\n",
    "        splash.showMessage('Seting up Calibration Mode...')\n",
    "        self.calibration=calibration_mode()\n",
    "        \n",
    "        self.tabs = QTabWidget()\n",
    "        self.tab1 = QWidget()\n",
    "        self.tab2 = QWidget()\n",
    "        self.tab3 = QWidget()\n",
    "        self.tab4 = QWidget()\n",
    "        \n",
    "        \n",
    "        self.tabs.addTab(self.tab1,\"Live Mode\")\n",
    "        self.tabs.addTab(self.tab2,\"Calibration Mode\")\n",
    "        self.tabs.addTab(self.tab3,\"Classification Mode\")\n",
    "        self.tabs.addTab(self.tab4,\"Settings\")        \n",
    "        \n",
    "        #tab1- Live mode\n",
    "        \n",
    "        self.tab1.layout = QHBoxLayout(self)\n",
    "        self.tab1.layout.addWidget(self.live)\n",
    "        self.tab1.setLayout(self.tab1.layout)\n",
    "        self.global_layout.addWidget(self.tabs)\n",
    "        self.setLayout(self.global_layout)\n",
    "        \n",
    "        #tab2- Calibration Mode\n",
    "        self.tab2.layout = QHBoxLayout(self)\n",
    "        self.tab2.layout.addWidget(self.calibration)\n",
    "        self.tab2.setLayout(self.tab2.layout)\n",
    "        self.global_layout.addWidget(self.tabs)\n",
    "        self.setLayout(self.global_layout)\n",
    "    \n",
    "        \n",
    "    def closeEvent(self, event):\n",
    "        close = QMessageBox.question(self,\"Quit\",\"Are you sure want to stop process?\",QMessageBox.Yes | QMessageBox.No)\n",
    "        if close == QMessageBox.Yes:\n",
    "            self.live.closeEvent(event)\n",
    "            event.accept()\n",
    "        else:\n",
    "            event.ignore()\n",
    "        \n",
    "###################################################################\n",
    "qapp = QCoreApplication.instance()\n",
    "qapp.setStyleSheet(qdarkstyle.load_stylesheet_pyqt5())\n",
    "\n",
    "if qapp is None:\n",
    "    qapp = QApplication(sys.argv)\n",
    "    #file = QFile(\":/dark/stylesheet.qss\")\n",
    "    #file.open(QFile.ReadOnly | QFile.Text)\n",
    "    #stream = QTextStream(file)\n",
    "    \n",
    "if __name__ == \"__main__\": \n",
    "    \n",
    "    pixmap= QPixmap('transferir.jpg')\n",
    "    splash= QSplashScreen(pixmap)\n",
    "    splash.show()\n",
    "    splash.showMessage('Loading...')\n",
    "    \n",
    "    #start the widget\n",
    "    ui = interface()\n",
    "    splash.showMessage('Starting...')\n",
    "    #show the widget\n",
    "    ui.show()\n",
    "    splash.finish(ui)\n",
    "    #start the event loop\n",
    "    qapp.exec_()"
   ]
  },
  {
   "cell_type": "code",
   "execution_count": null,
   "id": "44d76a2c",
   "metadata": {},
   "outputs": [],
   "source": []
  }
 ],
 "metadata": {
  "kernelspec": {
   "display_name": "Python 3 (ipykernel)",
   "language": "python",
   "name": "python3"
  },
  "language_info": {
   "codemirror_mode": {
    "name": "ipython",
    "version": 3
   },
   "file_extension": ".py",
   "mimetype": "text/x-python",
   "name": "python",
   "nbconvert_exporter": "python",
   "pygments_lexer": "ipython3",
   "version": "3.10.7"
  }
 },
 "nbformat": 4,
 "nbformat_minor": 5
}
